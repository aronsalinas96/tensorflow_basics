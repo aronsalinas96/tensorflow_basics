{
  "nbformat": 4,
  "nbformat_minor": 0,
  "metadata": {
    "colab": {
      "name": "08_Introduction_to_NLP_TensorFlow.ipynb",
      "provenance": [],
      "collapsed_sections": [],
      "authorship_tag": "ABX9TyPHmhKkLJ8FM8VplMWEfb3H",
      "include_colab_link": true
    },
    "kernelspec": {
      "name": "python3",
      "display_name": "Python 3"
    },
    "language_info": {
      "name": "python"
    },
    "accelerator": "GPU"
  },
  "cells": [
    {
      "cell_type": "markdown",
      "metadata": {
        "id": "view-in-github",
        "colab_type": "text"
      },
      "source": [
        "<a href=\"https://colab.research.google.com/github/aronsalinas96/tensorflow_basics/blob/main/08_Introduction_to_NLP_TensorFlow.ipynb\" target=\"_parent\"><img src=\"https://colab.research.google.com/assets/colab-badge.svg\" alt=\"Open In Colab\"/></a>"
      ]
    },
    {
      "cell_type": "markdown",
      "source": [
        "# Introduction to NLP Fundamentals in TensorFlow\n",
        "\n",
        "NLP has the goal of deriving information out of natural language (sequences text or speech)\n",
        "\n",
        "Another common term for NLP problems is sequence to sequence problems (seq2seq)"
      ],
      "metadata": {
        "id": "FhzEAGigV0ts"
      }
    },
    {
      "cell_type": "code",
      "source": [
        "!nvidia-smi -L"
      ],
      "metadata": {
        "colab": {
          "base_uri": "https://localhost:8080/"
        },
        "id": "1KAbacqqWY7X",
        "outputId": "c985195b-e9ef-470d-fb07-b1366dbda8ff"
      },
      "execution_count": 1,
      "outputs": [
        {
          "output_type": "stream",
          "name": "stdout",
          "text": [
            "GPU 0: Tesla P100-PCIE-16GB (UUID: GPU-5e43d940-5c00-0c6e-eca3-6f29cc7d4bd2)\n"
          ]
        }
      ]
    },
    {
      "cell_type": "markdown",
      "source": [
        "## Get a text dataset\n",
        "\n",
        "The dataset we're going to be using is Kaggle's introduction to NLP dataset.\n",
        "\n",
        "Original source: https://www.kaggle.com/c/nlp-getting-started"
      ],
      "metadata": {
        "id": "5UqpiB72XxY7"
      }
    },
    {
      "cell_type": "code",
      "source": [
        "!wget https://storage.googleapis.com/ztm_tf_course/nlp_getting_started.zip"
      ],
      "metadata": {
        "colab": {
          "base_uri": "https://localhost:8080/"
        },
        "id": "pB8lpi_-WhRe",
        "outputId": "11f4b94f-70d1-44e8-db48-8db44ec287f9"
      },
      "execution_count": 1,
      "outputs": [
        {
          "output_type": "stream",
          "name": "stdout",
          "text": [
            "--2022-02-18 22:46:29--  https://storage.googleapis.com/ztm_tf_course/nlp_getting_started.zip\n",
            "Resolving storage.googleapis.com (storage.googleapis.com)... 74.125.142.128, 74.125.195.128, 2607:f8b0:400e:c00::80, ...\n",
            "Connecting to storage.googleapis.com (storage.googleapis.com)|74.125.142.128|:443... connected.\n",
            "HTTP request sent, awaiting response... 200 OK\n",
            "Length: 607343 (593K) [application/zip]\n",
            "Saving to: ‘nlp_getting_started.zip’\n",
            "\n",
            "\rnlp_getting_started   0%[                    ]       0  --.-KB/s               \rnlp_getting_started 100%[===================>] 593.11K  --.-KB/s    in 0.004s  \n",
            "\n",
            "2022-02-18 22:46:29 (156 MB/s) - ‘nlp_getting_started.zip’ saved [607343/607343]\n",
            "\n"
          ]
        }
      ]
    },
    {
      "cell_type": "code",
      "source": [
        "import zipfile\n",
        "\n",
        "filename = \"nlp_getting_started.zip\"\n",
        "zip_ref = zipfile.ZipFile(filename, \"r\")\n",
        "zip_ref.extractall()\n",
        "zip_ref.close()"
      ],
      "metadata": {
        "id": "7s2uJah3Y83C"
      },
      "execution_count": 2,
      "outputs": []
    },
    {
      "cell_type": "markdown",
      "source": [
        "## Visualizing a text dataset\n",
        "\n",
        "To visualize our text samples, we first have to read them in.\n",
        "\n",
        "One way to do this is use pandas."
      ],
      "metadata": {
        "id": "zyJws0J7aLYo"
      }
    },
    {
      "cell_type": "code",
      "source": [
        "import pandas as pd\n",
        "train_df = pd.read_csv(\"train.csv\")\n",
        "test_df = pd.read_csv(\"test.csv\")"
      ],
      "metadata": {
        "id": "ta2A4L9WZgki"
      },
      "execution_count": 3,
      "outputs": []
    },
    {
      "cell_type": "code",
      "source": [
        "train_df.head()"
      ],
      "metadata": {
        "colab": {
          "base_uri": "https://localhost:8080/",
          "height": 206
        },
        "id": "AEZz48QKbN6N",
        "outputId": "a79b7438-1417-4c7c-89a1-a6d14e0107d5"
      },
      "execution_count": 6,
      "outputs": [
        {
          "output_type": "execute_result",
          "data": {
            "text/html": [
              "\n",
              "  <div id=\"df-4c0713ce-349e-44b3-bcae-4501e87c920c\">\n",
              "    <div class=\"colab-df-container\">\n",
              "      <div>\n",
              "<style scoped>\n",
              "    .dataframe tbody tr th:only-of-type {\n",
              "        vertical-align: middle;\n",
              "    }\n",
              "\n",
              "    .dataframe tbody tr th {\n",
              "        vertical-align: top;\n",
              "    }\n",
              "\n",
              "    .dataframe thead th {\n",
              "        text-align: right;\n",
              "    }\n",
              "</style>\n",
              "<table border=\"1\" class=\"dataframe\">\n",
              "  <thead>\n",
              "    <tr style=\"text-align: right;\">\n",
              "      <th></th>\n",
              "      <th>id</th>\n",
              "      <th>keyword</th>\n",
              "      <th>location</th>\n",
              "      <th>text</th>\n",
              "      <th>target</th>\n",
              "    </tr>\n",
              "  </thead>\n",
              "  <tbody>\n",
              "    <tr>\n",
              "      <th>0</th>\n",
              "      <td>1</td>\n",
              "      <td>NaN</td>\n",
              "      <td>NaN</td>\n",
              "      <td>Our Deeds are the Reason of this #earthquake M...</td>\n",
              "      <td>1</td>\n",
              "    </tr>\n",
              "    <tr>\n",
              "      <th>1</th>\n",
              "      <td>4</td>\n",
              "      <td>NaN</td>\n",
              "      <td>NaN</td>\n",
              "      <td>Forest fire near La Ronge Sask. Canada</td>\n",
              "      <td>1</td>\n",
              "    </tr>\n",
              "    <tr>\n",
              "      <th>2</th>\n",
              "      <td>5</td>\n",
              "      <td>NaN</td>\n",
              "      <td>NaN</td>\n",
              "      <td>All residents asked to 'shelter in place' are ...</td>\n",
              "      <td>1</td>\n",
              "    </tr>\n",
              "    <tr>\n",
              "      <th>3</th>\n",
              "      <td>6</td>\n",
              "      <td>NaN</td>\n",
              "      <td>NaN</td>\n",
              "      <td>13,000 people receive #wildfires evacuation or...</td>\n",
              "      <td>1</td>\n",
              "    </tr>\n",
              "    <tr>\n",
              "      <th>4</th>\n",
              "      <td>7</td>\n",
              "      <td>NaN</td>\n",
              "      <td>NaN</td>\n",
              "      <td>Just got sent this photo from Ruby #Alaska as ...</td>\n",
              "      <td>1</td>\n",
              "    </tr>\n",
              "  </tbody>\n",
              "</table>\n",
              "</div>\n",
              "      <button class=\"colab-df-convert\" onclick=\"convertToInteractive('df-4c0713ce-349e-44b3-bcae-4501e87c920c')\"\n",
              "              title=\"Convert this dataframe to an interactive table.\"\n",
              "              style=\"display:none;\">\n",
              "        \n",
              "  <svg xmlns=\"http://www.w3.org/2000/svg\" height=\"24px\"viewBox=\"0 0 24 24\"\n",
              "       width=\"24px\">\n",
              "    <path d=\"M0 0h24v24H0V0z\" fill=\"none\"/>\n",
              "    <path d=\"M18.56 5.44l.94 2.06.94-2.06 2.06-.94-2.06-.94-.94-2.06-.94 2.06-2.06.94zm-11 1L8.5 8.5l.94-2.06 2.06-.94-2.06-.94L8.5 2.5l-.94 2.06-2.06.94zm10 10l.94 2.06.94-2.06 2.06-.94-2.06-.94-.94-2.06-.94 2.06-2.06.94z\"/><path d=\"M17.41 7.96l-1.37-1.37c-.4-.4-.92-.59-1.43-.59-.52 0-1.04.2-1.43.59L10.3 9.45l-7.72 7.72c-.78.78-.78 2.05 0 2.83L4 21.41c.39.39.9.59 1.41.59.51 0 1.02-.2 1.41-.59l7.78-7.78 2.81-2.81c.8-.78.8-2.07 0-2.86zM5.41 20L4 18.59l7.72-7.72 1.47 1.35L5.41 20z\"/>\n",
              "  </svg>\n",
              "      </button>\n",
              "      \n",
              "  <style>\n",
              "    .colab-df-container {\n",
              "      display:flex;\n",
              "      flex-wrap:wrap;\n",
              "      gap: 12px;\n",
              "    }\n",
              "\n",
              "    .colab-df-convert {\n",
              "      background-color: #E8F0FE;\n",
              "      border: none;\n",
              "      border-radius: 50%;\n",
              "      cursor: pointer;\n",
              "      display: none;\n",
              "      fill: #1967D2;\n",
              "      height: 32px;\n",
              "      padding: 0 0 0 0;\n",
              "      width: 32px;\n",
              "    }\n",
              "\n",
              "    .colab-df-convert:hover {\n",
              "      background-color: #E2EBFA;\n",
              "      box-shadow: 0px 1px 2px rgba(60, 64, 67, 0.3), 0px 1px 3px 1px rgba(60, 64, 67, 0.15);\n",
              "      fill: #174EA6;\n",
              "    }\n",
              "\n",
              "    [theme=dark] .colab-df-convert {\n",
              "      background-color: #3B4455;\n",
              "      fill: #D2E3FC;\n",
              "    }\n",
              "\n",
              "    [theme=dark] .colab-df-convert:hover {\n",
              "      background-color: #434B5C;\n",
              "      box-shadow: 0px 1px 3px 1px rgba(0, 0, 0, 0.15);\n",
              "      filter: drop-shadow(0px 1px 2px rgba(0, 0, 0, 0.3));\n",
              "      fill: #FFFFFF;\n",
              "    }\n",
              "  </style>\n",
              "\n",
              "      <script>\n",
              "        const buttonEl =\n",
              "          document.querySelector('#df-4c0713ce-349e-44b3-bcae-4501e87c920c button.colab-df-convert');\n",
              "        buttonEl.style.display =\n",
              "          google.colab.kernel.accessAllowed ? 'block' : 'none';\n",
              "\n",
              "        async function convertToInteractive(key) {\n",
              "          const element = document.querySelector('#df-4c0713ce-349e-44b3-bcae-4501e87c920c');\n",
              "          const dataTable =\n",
              "            await google.colab.kernel.invokeFunction('convertToInteractive',\n",
              "                                                     [key], {});\n",
              "          if (!dataTable) return;\n",
              "\n",
              "          const docLinkHtml = 'Like what you see? Visit the ' +\n",
              "            '<a target=\"_blank\" href=https://colab.research.google.com/notebooks/data_table.ipynb>data table notebook</a>'\n",
              "            + ' to learn more about interactive tables.';\n",
              "          element.innerHTML = '';\n",
              "          dataTable['output_type'] = 'display_data';\n",
              "          await google.colab.output.renderOutput(dataTable, element);\n",
              "          const docLink = document.createElement('div');\n",
              "          docLink.innerHTML = docLinkHtml;\n",
              "          element.appendChild(docLink);\n",
              "        }\n",
              "      </script>\n",
              "    </div>\n",
              "  </div>\n",
              "  "
            ],
            "text/plain": [
              "   id keyword  ...                                               text target\n",
              "0   1     NaN  ...  Our Deeds are the Reason of this #earthquake M...      1\n",
              "1   4     NaN  ...             Forest fire near La Ronge Sask. Canada      1\n",
              "2   5     NaN  ...  All residents asked to 'shelter in place' are ...      1\n",
              "3   6     NaN  ...  13,000 people receive #wildfires evacuation or...      1\n",
              "4   7     NaN  ...  Just got sent this photo from Ruby #Alaska as ...      1\n",
              "\n",
              "[5 rows x 5 columns]"
            ]
          },
          "metadata": {},
          "execution_count": 6
        }
      ]
    },
    {
      "cell_type": "code",
      "source": [
        "train_df_shuffled = train_df.sample(frac=1, random_state=42)\n",
        "train_df_shuffled.head()"
      ],
      "metadata": {
        "colab": {
          "base_uri": "https://localhost:8080/",
          "height": 206
        },
        "id": "lZhD8MuobQ7b",
        "outputId": "4ef2cf0a-a66e-423f-b2c4-51528b1495ea"
      },
      "execution_count": 4,
      "outputs": [
        {
          "output_type": "execute_result",
          "data": {
            "text/html": [
              "\n",
              "  <div id=\"df-095fbc47-3332-4c61-a612-7adf03876150\">\n",
              "    <div class=\"colab-df-container\">\n",
              "      <div>\n",
              "<style scoped>\n",
              "    .dataframe tbody tr th:only-of-type {\n",
              "        vertical-align: middle;\n",
              "    }\n",
              "\n",
              "    .dataframe tbody tr th {\n",
              "        vertical-align: top;\n",
              "    }\n",
              "\n",
              "    .dataframe thead th {\n",
              "        text-align: right;\n",
              "    }\n",
              "</style>\n",
              "<table border=\"1\" class=\"dataframe\">\n",
              "  <thead>\n",
              "    <tr style=\"text-align: right;\">\n",
              "      <th></th>\n",
              "      <th>id</th>\n",
              "      <th>keyword</th>\n",
              "      <th>location</th>\n",
              "      <th>text</th>\n",
              "      <th>target</th>\n",
              "    </tr>\n",
              "  </thead>\n",
              "  <tbody>\n",
              "    <tr>\n",
              "      <th>2644</th>\n",
              "      <td>3796</td>\n",
              "      <td>destruction</td>\n",
              "      <td>NaN</td>\n",
              "      <td>So you have a new weapon that can cause un-ima...</td>\n",
              "      <td>1</td>\n",
              "    </tr>\n",
              "    <tr>\n",
              "      <th>2227</th>\n",
              "      <td>3185</td>\n",
              "      <td>deluge</td>\n",
              "      <td>NaN</td>\n",
              "      <td>The f$&amp;amp;@ing things I do for #GISHWHES Just...</td>\n",
              "      <td>0</td>\n",
              "    </tr>\n",
              "    <tr>\n",
              "      <th>5448</th>\n",
              "      <td>7769</td>\n",
              "      <td>police</td>\n",
              "      <td>UK</td>\n",
              "      <td>DT @georgegalloway: RT @Galloway4Mayor: ÛÏThe...</td>\n",
              "      <td>1</td>\n",
              "    </tr>\n",
              "    <tr>\n",
              "      <th>132</th>\n",
              "      <td>191</td>\n",
              "      <td>aftershock</td>\n",
              "      <td>NaN</td>\n",
              "      <td>Aftershock back to school kick off was great. ...</td>\n",
              "      <td>0</td>\n",
              "    </tr>\n",
              "    <tr>\n",
              "      <th>6845</th>\n",
              "      <td>9810</td>\n",
              "      <td>trauma</td>\n",
              "      <td>Montgomery County, MD</td>\n",
              "      <td>in response to trauma Children of Addicts deve...</td>\n",
              "      <td>0</td>\n",
              "    </tr>\n",
              "  </tbody>\n",
              "</table>\n",
              "</div>\n",
              "      <button class=\"colab-df-convert\" onclick=\"convertToInteractive('df-095fbc47-3332-4c61-a612-7adf03876150')\"\n",
              "              title=\"Convert this dataframe to an interactive table.\"\n",
              "              style=\"display:none;\">\n",
              "        \n",
              "  <svg xmlns=\"http://www.w3.org/2000/svg\" height=\"24px\"viewBox=\"0 0 24 24\"\n",
              "       width=\"24px\">\n",
              "    <path d=\"M0 0h24v24H0V0z\" fill=\"none\"/>\n",
              "    <path d=\"M18.56 5.44l.94 2.06.94-2.06 2.06-.94-2.06-.94-.94-2.06-.94 2.06-2.06.94zm-11 1L8.5 8.5l.94-2.06 2.06-.94-2.06-.94L8.5 2.5l-.94 2.06-2.06.94zm10 10l.94 2.06.94-2.06 2.06-.94-2.06-.94-.94-2.06-.94 2.06-2.06.94z\"/><path d=\"M17.41 7.96l-1.37-1.37c-.4-.4-.92-.59-1.43-.59-.52 0-1.04.2-1.43.59L10.3 9.45l-7.72 7.72c-.78.78-.78 2.05 0 2.83L4 21.41c.39.39.9.59 1.41.59.51 0 1.02-.2 1.41-.59l7.78-7.78 2.81-2.81c.8-.78.8-2.07 0-2.86zM5.41 20L4 18.59l7.72-7.72 1.47 1.35L5.41 20z\"/>\n",
              "  </svg>\n",
              "      </button>\n",
              "      \n",
              "  <style>\n",
              "    .colab-df-container {\n",
              "      display:flex;\n",
              "      flex-wrap:wrap;\n",
              "      gap: 12px;\n",
              "    }\n",
              "\n",
              "    .colab-df-convert {\n",
              "      background-color: #E8F0FE;\n",
              "      border: none;\n",
              "      border-radius: 50%;\n",
              "      cursor: pointer;\n",
              "      display: none;\n",
              "      fill: #1967D2;\n",
              "      height: 32px;\n",
              "      padding: 0 0 0 0;\n",
              "      width: 32px;\n",
              "    }\n",
              "\n",
              "    .colab-df-convert:hover {\n",
              "      background-color: #E2EBFA;\n",
              "      box-shadow: 0px 1px 2px rgba(60, 64, 67, 0.3), 0px 1px 3px 1px rgba(60, 64, 67, 0.15);\n",
              "      fill: #174EA6;\n",
              "    }\n",
              "\n",
              "    [theme=dark] .colab-df-convert {\n",
              "      background-color: #3B4455;\n",
              "      fill: #D2E3FC;\n",
              "    }\n",
              "\n",
              "    [theme=dark] .colab-df-convert:hover {\n",
              "      background-color: #434B5C;\n",
              "      box-shadow: 0px 1px 3px 1px rgba(0, 0, 0, 0.15);\n",
              "      filter: drop-shadow(0px 1px 2px rgba(0, 0, 0, 0.3));\n",
              "      fill: #FFFFFF;\n",
              "    }\n",
              "  </style>\n",
              "\n",
              "      <script>\n",
              "        const buttonEl =\n",
              "          document.querySelector('#df-095fbc47-3332-4c61-a612-7adf03876150 button.colab-df-convert');\n",
              "        buttonEl.style.display =\n",
              "          google.colab.kernel.accessAllowed ? 'block' : 'none';\n",
              "\n",
              "        async function convertToInteractive(key) {\n",
              "          const element = document.querySelector('#df-095fbc47-3332-4c61-a612-7adf03876150');\n",
              "          const dataTable =\n",
              "            await google.colab.kernel.invokeFunction('convertToInteractive',\n",
              "                                                     [key], {});\n",
              "          if (!dataTable) return;\n",
              "\n",
              "          const docLinkHtml = 'Like what you see? Visit the ' +\n",
              "            '<a target=\"_blank\" href=https://colab.research.google.com/notebooks/data_table.ipynb>data table notebook</a>'\n",
              "            + ' to learn more about interactive tables.';\n",
              "          element.innerHTML = '';\n",
              "          dataTable['output_type'] = 'display_data';\n",
              "          await google.colab.output.renderOutput(dataTable, element);\n",
              "          const docLink = document.createElement('div');\n",
              "          docLink.innerHTML = docLinkHtml;\n",
              "          element.appendChild(docLink);\n",
              "        }\n",
              "      </script>\n",
              "    </div>\n",
              "  </div>\n",
              "  "
            ],
            "text/plain": [
              "        id  ... target\n",
              "2644  3796  ...      1\n",
              "2227  3185  ...      0\n",
              "5448  7769  ...      1\n",
              "132    191  ...      0\n",
              "6845  9810  ...      0\n",
              "\n",
              "[5 rows x 5 columns]"
            ]
          },
          "metadata": {},
          "execution_count": 4
        }
      ]
    },
    {
      "cell_type": "code",
      "source": [
        "train_df.target.value_counts()"
      ],
      "metadata": {
        "colab": {
          "base_uri": "https://localhost:8080/"
        },
        "id": "WrC5lr8Vbibu",
        "outputId": "2f16315f-7f09-4eae-f78e-fdfe9cd4b510"
      },
      "execution_count": 9,
      "outputs": [
        {
          "output_type": "execute_result",
          "data": {
            "text/plain": [
              "0    4342\n",
              "1    3271\n",
              "Name: target, dtype: int64"
            ]
          },
          "metadata": {},
          "execution_count": 9
        }
      ]
    },
    {
      "cell_type": "code",
      "source": [
        "len(train_df), len(test_df)"
      ],
      "metadata": {
        "colab": {
          "base_uri": "https://localhost:8080/"
        },
        "id": "VZYRngESbxWt",
        "outputId": "3bb5be58-11cd-4240-d6cb-a53edfa1a3b9"
      },
      "execution_count": 10,
      "outputs": [
        {
          "output_type": "execute_result",
          "data": {
            "text/plain": [
              "(7613, 3263)"
            ]
          },
          "metadata": {},
          "execution_count": 10
        }
      ]
    },
    {
      "cell_type": "code",
      "source": [
        "import random\n",
        "random_index = random.randint(0, len(train_df)-5)\n",
        "for row in train_df_shuffled[[\"text\",\"target\"]][random_index:random_index+5].itertuples():\n",
        "  _, text, target = row\n",
        "  print(f\"Target: {target}\", \"(real disaster)\" if target > 0 else \"(not real disaster)\")\n",
        "  print(f\"Text: \\n{text}\\n\")"
      ],
      "metadata": {
        "colab": {
          "base_uri": "https://localhost:8080/"
        },
        "id": "hS_TGEokb14Y",
        "outputId": "3373523d-c2bb-481b-fdda-a3661dbe05c9"
      },
      "execution_count": 5,
      "outputs": [
        {
          "output_type": "stream",
          "name": "stdout",
          "text": [
            "Target: 1 (real disaster)\n",
            "Text: \n",
            "Still and Box alarm for the train derailment at 61st and Calumet struck out on the orders of 2-1-21. #ChicagoScanner\n",
            "\n",
            "Target: 1 (real disaster)\n",
            "Text: \n",
            "PHOTOS: The Rocky Fire has grown into California's most destructive wildfire this year. http://t.co/h9v4HoWtiP http://t.co/8IcSesHbj3\n",
            "\n",
            "Target: 0 (not real disaster)\n",
            "Text: \n",
            "That took way longer than I expected\n",
            "\n",
            "Target: 0 (not real disaster)\n",
            "Text: \n",
            "&gt;&gt; @GidiExclusixe Shock In Aba As Woman Delivers Û÷FacelessÛª Baby [Photo]: There was pandemonium... http://t.co/RGTYZbNKeo #BennyCapricon\n",
            "\n",
            "Target: 0 (not real disaster)\n",
            "Text: \n",
            "The year is 2065 and the national society of meme preservation has opened the first museum where memes and their origins are displaced\n",
            "\n"
          ]
        }
      ]
    },
    {
      "cell_type": "code",
      "source": [
        "## Split data into training and validation sets\n",
        "from sklearn.model_selection import train_test_split"
      ],
      "metadata": {
        "id": "GquTgNF4cYrC"
      },
      "execution_count": 6,
      "outputs": []
    },
    {
      "cell_type": "code",
      "source": [
        "train_sentences, val_sentences, train_labels, val_labels = train_test_split(train_df_shuffled[\"text\"].to_numpy(),\n",
        "                                                                            train_df_shuffled[\"target\"].to_numpy(),\n",
        "                                                                            test_size=0.1,\n",
        "                                                                            random_state=42)\n",
        "\n",
        "len(train_sentences), len(val_sentences), len(train_labels), len(val_labels)"
      ],
      "metadata": {
        "colab": {
          "base_uri": "https://localhost:8080/"
        },
        "id": "AEdhmLgEcyqq",
        "outputId": "9a61e9b1-39f7-45b2-e3b0-26ea73dce900"
      },
      "execution_count": 7,
      "outputs": [
        {
          "output_type": "execute_result",
          "data": {
            "text/plain": [
              "(6851, 762, 6851, 762)"
            ]
          },
          "metadata": {},
          "execution_count": 7
        }
      ]
    },
    {
      "cell_type": "code",
      "source": [
        "train_sentences[:5], train_labels[:5]"
      ],
      "metadata": {
        "colab": {
          "base_uri": "https://localhost:8080/"
        },
        "id": "-JMeB-X2dSyy",
        "outputId": "880b9af5-c710-4252-ae52-0f25aa46d77e"
      },
      "execution_count": 8,
      "outputs": [
        {
          "output_type": "execute_result",
          "data": {
            "text/plain": [
              "(array(['@mogacola @zamtriossu i screamed after hitting tweet',\n",
              "        'Imagine getting flattened by Kurt Zouma',\n",
              "        '@Gurmeetramrahim #MSGDoing111WelfareWorks Green S welfare force ke appx 65000 members har time disaster victim ki help ke liye tyar hai....',\n",
              "        \"@shakjn @C7 @Magnums im shaking in fear he's gonna hack the planet\",\n",
              "        'Somehow find you and I collide http://t.co/Ee8RpOahPk'],\n",
              "       dtype=object), array([0, 0, 1, 0, 0]))"
            ]
          },
          "metadata": {},
          "execution_count": 8
        }
      ]
    },
    {
      "cell_type": "markdown",
      "source": [
        "## Converting text into number\n",
        "\n",
        "When dealing with a text problem, one of the first things you'll have to do before you can build a model is convert text to numbers.\n",
        "\n",
        "There are few ways to do this, namely:\n",
        "\n",
        "* **Tokenization** - direct mapping of token(word or character) to number.\n",
        "* **Embedding** - create a matrix of feature vector for each token "
      ],
      "metadata": {
        "id": "secSOQQTfgC7"
      }
    },
    {
      "cell_type": "markdown",
      "source": [
        "## Text vectorization (tokenization)"
      ],
      "metadata": {
        "id": "oZRS4mNgjm6g"
      }
    },
    {
      "cell_type": "code",
      "source": [
        "#Average number of words in training tweets\n",
        "round(sum([len(i.split()) for i in train_sentences])/len(train_sentences))"
      ],
      "metadata": {
        "colab": {
          "base_uri": "https://localhost:8080/"
        },
        "id": "65HTKsbmm2X5",
        "outputId": "3b496f1d-a52a-4102-845d-3eaca6ed781e"
      },
      "execution_count": 9,
      "outputs": [
        {
          "output_type": "execute_result",
          "data": {
            "text/plain": [
              "15"
            ]
          },
          "metadata": {},
          "execution_count": 9
        }
      ]
    },
    {
      "cell_type": "code",
      "source": [
        "import tensorflow as tf\n",
        "from tensorflow.keras.layers.experimental.preprocessing import TextVectorization\n",
        "\n",
        "max_vocab_length = 10000\n",
        "max_length = 15\n",
        "\n",
        "text_vectorizer = TextVectorization(max_tokens=max_vocab_length, #automatically add <OOV> for others\n",
        "                                    standardize=\"lower_and_strip_punctuation\",\n",
        "                                    split=\"whitespace\",\n",
        "                                    ngrams=None, #create groups of n-words?\n",
        "                                    output_mode=\"int\",\n",
        "                                    output_sequence_length=max_length, #automatically gets bigger text\n",
        "                                    pad_to_max_tokens=True) "
      ],
      "metadata": {
        "id": "AlOP4ypAoYtY"
      },
      "execution_count": 10,
      "outputs": []
    },
    {
      "cell_type": "code",
      "source": [
        "# Fit the text vectorizer to the training text\n",
        "text_vectorizer.adapt(train_sentences)"
      ],
      "metadata": {
        "id": "qVNJRCsso6hF"
      },
      "execution_count": 11,
      "outputs": []
    },
    {
      "cell_type": "code",
      "source": [
        "# Create a sample sentence and tokenize it\n",
        "sample_sentence = \"There's a fire in my building!\"\n",
        "text_vectorizer([sample_sentence])"
      ],
      "metadata": {
        "colab": {
          "base_uri": "https://localhost:8080/"
        },
        "id": "yJYWkr5MpGYB",
        "outputId": "f95a63e0-cde4-49e4-d543-6d9dd357027d"
      },
      "execution_count": 12,
      "outputs": [
        {
          "output_type": "execute_result",
          "data": {
            "text/plain": [
              "<tf.Tensor: shape=(1, 15), dtype=int64, numpy=\n",
              "array([[264,   3,  42,   4,  13, 630,   0,   0,   0,   0,   0,   0,   0,\n",
              "          0,   0]])>"
            ]
          },
          "metadata": {},
          "execution_count": 12
        }
      ]
    },
    {
      "cell_type": "code",
      "source": [
        "words_in_vocab = text_vectorizer.get_vocabulary()\n",
        "top_5_words = words_in_vocab[:5]\n",
        "bottom_5_words = words_in_vocab[-5:]\n",
        "top_5_words, bottom_5_words"
      ],
      "metadata": {
        "colab": {
          "base_uri": "https://localhost:8080/"
        },
        "id": "e9HBXEYYpb9S",
        "outputId": "1ad7b331-c7d4-4665-a953-554080ab1459"
      },
      "execution_count": 13,
      "outputs": [
        {
          "output_type": "execute_result",
          "data": {
            "text/plain": [
              "(['', '[UNK]', 'the', 'a', 'in'],\n",
              " ['pages', 'paeds', 'pads', 'padres', 'paddytomlinson1'])"
            ]
          },
          "metadata": {},
          "execution_count": 13
        }
      ]
    },
    {
      "cell_type": "markdown",
      "source": [
        "### Creating an Embedding using an Embeding Layer\n",
        "\n",
        "To make our embedding, we're going to use TensorFlow's embedding layer.\n",
        "\n",
        "The parameters we care most about for our embedding layer:\n",
        "* `input_dim` = the size of our vocabulary\n",
        "* `output_dim` = the size of the output embedding vector, for example, a value of 100 would mean each token get represented by a vector 100 long.\n",
        "* `input_length` = length of the sequences being passed to the embedding layer"
      ],
      "metadata": {
        "id": "CbTEYfb1qIsI"
      }
    },
    {
      "cell_type": "code",
      "source": [
        "from tensorflow.keras import layers\n",
        "\n",
        "embedding = layers.Embedding(input_dim=max_vocab_length,\n",
        "                             output_dim=128,\n",
        "                             input_length=max_length\n",
        "                             )"
      ],
      "metadata": {
        "id": "22QFY_eVpytc"
      },
      "execution_count": 14,
      "outputs": []
    },
    {
      "cell_type": "code",
      "source": [
        "random_sentence = random.choice(train_sentences)\n",
        "print(f\"Original text: \\n {random_sentence}\\\n",
        "        \\n \\n Embedded version: \" )\n",
        "sample_embed = embedding(text_vectorizer([random_sentence]))\n",
        "sample_embed # shape = 1, 15 (max_vocab_length), 128 (output dim) --> each of the 15 tokens (array of 15 element) is represented as a tensor of 128 elements"
      ],
      "metadata": {
        "colab": {
          "base_uri": "https://localhost:8080/"
        },
        "id": "x6bJvsQ3rQhV",
        "outputId": "7ca01a02-bf2c-40db-edb2-e1dac95e5086"
      },
      "execution_count": 15,
      "outputs": [
        {
          "output_type": "stream",
          "name": "stdout",
          "text": [
            "Original text: \n",
            " U.S. record hurricane drought. http://t.co/fE9hIVfMxq        \n",
            " \n",
            " Embedded version: \n"
          ]
        },
        {
          "output_type": "execute_result",
          "data": {
            "text/plain": [
              "<tf.Tensor: shape=(1, 15, 128), dtype=float32, numpy=\n",
              "array([[[ 0.02367349,  0.02425902, -0.00759047, ...,  0.02603301,\n",
              "         -0.0114386 ,  0.04486388],\n",
              "        [-0.01816767, -0.04035757, -0.03847962, ...,  0.00808502,\n",
              "         -0.03157505,  0.02147502],\n",
              "        [ 0.0467188 , -0.04001392,  0.04878275, ..., -0.0066929 ,\n",
              "         -0.02143457, -0.03573713],\n",
              "        ...,\n",
              "        [-0.03863068,  0.01299653, -0.01967797, ..., -0.02551472,\n",
              "          0.01405661,  0.02047993],\n",
              "        [-0.03863068,  0.01299653, -0.01967797, ..., -0.02551472,\n",
              "          0.01405661,  0.02047993],\n",
              "        [-0.03863068,  0.01299653, -0.01967797, ..., -0.02551472,\n",
              "          0.01405661,  0.02047993]]], dtype=float32)>"
            ]
          },
          "metadata": {},
          "execution_count": 15
        }
      ]
    },
    {
      "cell_type": "code",
      "source": [
        "sample_embed[0][0], sample_embed[0][0].shape, random_sentence"
      ],
      "metadata": {
        "colab": {
          "base_uri": "https://localhost:8080/"
        },
        "id": "wkW5MBg7rjvn",
        "outputId": "c0365b9c-eaab-40c1-84d8-bc289c1e0494"
      },
      "execution_count": 16,
      "outputs": [
        {
          "output_type": "execute_result",
          "data": {
            "text/plain": [
              "(<tf.Tensor: shape=(128,), dtype=float32, numpy=\n",
              " array([ 0.02367349,  0.02425902, -0.00759047,  0.00886009, -0.00985781,\n",
              "         0.02341069,  0.02422616, -0.03525461, -0.00860698, -0.02079629,\n",
              "        -0.03163538, -0.02749364, -0.00829739, -0.02960477,  0.00957511,\n",
              "        -0.01837876, -0.00873283,  0.00943799,  0.01941237, -0.02583201,\n",
              "        -0.0124128 ,  0.02578768,  0.04712143, -0.00579457, -0.01689576,\n",
              "        -0.04153226, -0.01466769,  0.03188418,  0.00057939, -0.04476321,\n",
              "         0.0092239 , -0.00566381, -0.02140899, -0.03800298,  0.0328587 ,\n",
              "         0.02529925, -0.00297806, -0.00977977,  0.02539618, -0.03584402,\n",
              "         0.00530189, -0.03991332,  0.04063131, -0.03147142,  0.00618009,\n",
              "         0.00357632, -0.03440284,  0.01562845, -0.0449227 ,  0.03690637,\n",
              "        -0.02911334, -0.00989274,  0.01802759, -0.03754824,  0.04574045,\n",
              "        -0.03121992,  0.01336826, -0.02258899, -0.00277563, -0.02084532,\n",
              "         0.02235073,  0.03096231,  0.02003194,  0.03140577,  0.02949995,\n",
              "         0.02728348, -0.02777476,  0.01377814,  0.00315737, -0.0261773 ,\n",
              "         0.00316137, -0.01151019, -0.03028288, -0.02629783, -0.0056821 ,\n",
              "         0.04004022,  0.03620119, -0.03316345, -0.04885307,  0.0194524 ,\n",
              "        -0.01993203, -0.04069395,  0.0302573 ,  0.01372943,  0.02874875,\n",
              "         0.03515655, -0.0359362 , -0.01219003, -0.04438695,  0.01556868,\n",
              "         0.04945648,  0.00211002,  0.04040983,  0.0284901 , -0.03163006,\n",
              "        -0.03422542, -0.04850998,  0.01864767, -0.02077482,  0.03128466,\n",
              "         0.02246891, -0.04540069,  0.00639468, -0.03710542, -0.00585835,\n",
              "         0.04646439,  0.01841516,  0.04860755, -0.00695795,  0.04290405,\n",
              "         0.04905161,  0.00318749, -0.00019956, -0.03185336, -0.02002293,\n",
              "         0.0031017 ,  0.02323277, -0.00023489,  0.01662086, -0.00041755,\n",
              "        -0.03970201, -0.01419955, -0.0352058 ,  0.02936444,  0.01622523,\n",
              "         0.02603301, -0.0114386 ,  0.04486388], dtype=float32)>,\n",
              " TensorShape([128]),\n",
              " 'U.S. record hurricane drought. http://t.co/fE9hIVfMxq')"
            ]
          },
          "metadata": {},
          "execution_count": 16
        }
      ]
    },
    {
      "cell_type": "markdown",
      "source": [
        "## Modelling a text dataset\n",
        "\n",
        "It's time to start building a series of modelling experiments.\n",
        "\n",
        "We'll start with a baseline and move on from there.\n",
        "\n",
        "* Model 0: Naive Bayes (baseline model, not deep learning)\n",
        "* Model 1: Feed-forward neural network (dense model)\n",
        "* Model 2: LSTM model (RNN)\n",
        "* Model 3: GRU model (RNN)\n",
        "* Model 4: Bidirectional-LSTM model (RNN)\n",
        "* Model 5: 1D Convolutional Neural Network\n",
        "* Model 6: TensorFlow Hub Pretrained Feature Extractor (transfer learning)\n",
        "* Model 7: Same as model 6 with 10% of training data"
      ],
      "metadata": {
        "id": "RpsvRfrGtGW7"
      }
    },
    {
      "cell_type": "markdown",
      "source": [
        "### Model 0: Getting a baseline "
      ],
      "metadata": {
        "id": "rbAc2-5Tv_d7"
      }
    },
    {
      "cell_type": "code",
      "source": [
        "from sklearn.feature_extraction.text import TfidfVectorizer\n",
        "from sklearn.naive_bayes import MultinomialNB\n",
        "from sklearn.pipeline import Pipeline \n",
        "\n",
        "model_0 = Pipeline([\n",
        "          (\"tfidf\", TfidfVectorizer()),\n",
        "          (\"clf\", MultinomialNB())\n",
        "])\n",
        "\n",
        "model_0.fit(train_sentences, train_labels)"
      ],
      "metadata": {
        "colab": {
          "base_uri": "https://localhost:8080/"
        },
        "id": "oMLCFtztsV9C",
        "outputId": "05fac9c4-1e95-41d7-8bb9-191ee76c03d0"
      },
      "execution_count": 17,
      "outputs": [
        {
          "output_type": "execute_result",
          "data": {
            "text/plain": [
              "Pipeline(steps=[('tfidf', TfidfVectorizer()), ('clf', MultinomialNB())])"
            ]
          },
          "metadata": {},
          "execution_count": 17
        }
      ]
    },
    {
      "cell_type": "code",
      "source": [
        "baseline_score = model_0.score(val_sentences, val_labels)\n",
        "round(baseline_score,4)*100"
      ],
      "metadata": {
        "colab": {
          "base_uri": "https://localhost:8080/"
        },
        "id": "WCrlxYC5Bog1",
        "outputId": "f384965c-9d87-4cf4-f6c4-71012e89fa4f"
      },
      "execution_count": 24,
      "outputs": [
        {
          "output_type": "execute_result",
          "data": {
            "text/plain": [
              "79.27"
            ]
          },
          "metadata": {},
          "execution_count": 24
        }
      ]
    },
    {
      "cell_type": "markdown",
      "source": [
        " ### Creating an evaluation function for our model experiments"
      ],
      "metadata": {
        "id": "VUnWSbmHCUNV"
      }
    },
    {
      "cell_type": "code",
      "source": [
        "from sklearn.metrics import accuracy_score, precision_recall_fscore_support \n",
        "\n",
        "def calculate_results(y_true, y_pred):\n",
        "\n",
        "  model_accuracy = accuracy_score(y_true, y_pred)\n",
        "  model_precision, model_recall, model_f1, _ = precision_recall_fscore_support(y_true, y_pred, average=\"weighted\")\n",
        "  model_results = {\"accuracy\": round(model_accuracy*100, 4),\n",
        "                    \"precision\": round(model_precision*100, 4),\n",
        "                    \"recall\": round(model_recall*100, 4),\n",
        "                    \"f1\": round(model_f1*100, 4)}\n",
        "  return model_results "
      ],
      "metadata": {
        "id": "TwCs1EYfB2tl"
      },
      "execution_count": 36,
      "outputs": []
    },
    {
      "cell_type": "code",
      "source": [
        "baseline_preds = model_0.predict(val_sentences)\n",
        "baseline_results = calculate_results(y_true=val_labels, \n",
        "                                     y_pred=baseline_preds)\n",
        "baseline_results"
      ],
      "metadata": {
        "colab": {
          "base_uri": "https://localhost:8080/"
        },
        "id": "9YgFhsYkDDG-",
        "outputId": "df148226-d7a9-4175-e703-132cf5e59eca"
      },
      "execution_count": 37,
      "outputs": [
        {
          "output_type": "execute_result",
          "data": {
            "text/plain": [
              "{'accuracy': 79.2651, 'f1': 78.6219, 'precision': 81.1139, 'recall': 79.2651}"
            ]
          },
          "metadata": {},
          "execution_count": 37
        }
      ]
    },
    {
      "cell_type": "markdown",
      "source": [
        "## Model 1: A simple dense model"
      ],
      "metadata": {
        "id": "BH0Xv3L3EOKg"
      }
    },
    {
      "cell_type": "code",
      "source": [
        "import datetime\n",
        "def create_tensorboard_callback(dir_name, experiment_name):\n",
        "  log_dir = dir_name + \"/\" + experiment_name + \"/\" + datetime.datetime.now().strftime(\"%Y%m%d-%H%M%S\")\n",
        "  tensorboard_callback = tf.keras.callbacks.TensorBoard(\n",
        "      log_dir=log_dir\n",
        "  )\n",
        "  print(f\"Saving TensorBoard log files to: {log_dir}\")\n",
        "  return tensorboard_callback"
      ],
      "metadata": {
        "id": "BodWL0NoDKaT"
      },
      "execution_count": 44,
      "outputs": []
    },
    {
      "cell_type": "code",
      "source": [
        "LOGS_DIR = \"model_logs\""
      ],
      "metadata": {
        "id": "qmYpajoUEX0t"
      },
      "execution_count": 39,
      "outputs": []
    },
    {
      "cell_type": "code",
      "source": [
        "from tensorflow.keras import layers \n",
        "inputs = layers.Input(shape=(1,), dtype=tf.string) # inputs are 1-dimensional strings\n",
        "x = text_vectorizer(inputs)\n",
        "x = embedding(x)\n",
        "x = layers.GlobalAveragePooling1D()(x)\n",
        "outputs = layers.Dense(1, activation=\"sigmoid\")(x)\n",
        "model_1 = tf.keras.Model(inputs, outputs, name=\"model_1_dense\")"
      ],
      "metadata": {
        "id": "Qn0fUqXhEeb8"
      },
      "execution_count": 47,
      "outputs": []
    },
    {
      "cell_type": "code",
      "source": [
        "model_1.summary()"
      ],
      "metadata": {
        "colab": {
          "base_uri": "https://localhost:8080/"
        },
        "id": "5Kvb9Mx2E8V9",
        "outputId": "a4b58b46-87c5-435a-ad1e-cf0d13660793"
      },
      "execution_count": 48,
      "outputs": [
        {
          "output_type": "stream",
          "name": "stdout",
          "text": [
            "Model: \"model_1_dense\"\n",
            "_________________________________________________________________\n",
            " Layer (type)                Output Shape              Param #   \n",
            "=================================================================\n",
            " input_2 (InputLayer)        [(None, 1)]               0         \n",
            "                                                                 \n",
            " text_vectorization (TextVec  (None, 15)               0         \n",
            " torization)                                                     \n",
            "                                                                 \n",
            " embedding (Embedding)       (None, 15, 128)           1280000   \n",
            "                                                                 \n",
            " global_average_pooling1d (G  (None, 128)              0         \n",
            " lobalAveragePooling1D)                                          \n",
            "                                                                 \n",
            " dense_1 (Dense)             (None, 1)                 129       \n",
            "                                                                 \n",
            "=================================================================\n",
            "Total params: 1,280,129\n",
            "Trainable params: 1,280,129\n",
            "Non-trainable params: 0\n",
            "_________________________________________________________________\n"
          ]
        }
      ]
    },
    {
      "cell_type": "code",
      "source": [
        "model_1.compile(loss=\"binary_crossentropy\",\n",
        "                optimizer=tf.keras.optimizers.Adam(),\n",
        "                metrics=[\"accuracy\"])"
      ],
      "metadata": {
        "id": "R2jDlwosE9Z3"
      },
      "execution_count": 49,
      "outputs": []
    },
    {
      "cell_type": "code",
      "source": [
        "model_1_history = model_1.fit(x=train_sentences,\n",
        "                              y=train_labels,\n",
        "                              epochs=5,\n",
        "                              validation_data=(val_sentences, val_labels),\n",
        "                              callbacks=[create_tensorboard_callback(dir_name=LOGS_DIR,\n",
        "                                                                     experiment_name=\"model_1_dense\")])"
      ],
      "metadata": {
        "colab": {
          "base_uri": "https://localhost:8080/"
        },
        "id": "rsy470DzFTP4",
        "outputId": "589decf4-5d1f-4e07-a74b-deff527b276f"
      },
      "execution_count": 50,
      "outputs": [
        {
          "output_type": "stream",
          "name": "stdout",
          "text": [
            "Saving TensorBoard log files to: model_logs/model_1_dense/20220218-230935\n",
            "Epoch 1/5\n",
            "215/215 [==============================] - 4s 5ms/step - loss: 0.6137 - accuracy: 0.6890 - val_loss: 0.5386 - val_accuracy: 0.7572\n",
            "Epoch 2/5\n",
            "215/215 [==============================] - 1s 4ms/step - loss: 0.4426 - accuracy: 0.8178 - val_loss: 0.4712 - val_accuracy: 0.7861\n",
            "Epoch 3/5\n",
            "215/215 [==============================] - 1s 4ms/step - loss: 0.3488 - accuracy: 0.8581 - val_loss: 0.4616 - val_accuracy: 0.7927\n",
            "Epoch 4/5\n",
            "215/215 [==============================] - 1s 4ms/step - loss: 0.2859 - accuracy: 0.8905 - val_loss: 0.4638 - val_accuracy: 0.7900\n",
            "Epoch 5/5\n",
            "215/215 [==============================] - 1s 4ms/step - loss: 0.2385 - accuracy: 0.9118 - val_loss: 0.4821 - val_accuracy: 0.7848\n"
          ]
        }
      ]
    },
    {
      "cell_type": "code",
      "source": [
        "model_1_preds = tf.squeeze(tf.round(model_1.predict(val_sentences)))\n",
        "model_1_results = calculate_results(y_true=val_labels,\n",
        "                                    y_pred=model_1_preds)\n",
        "baseline_results, model_1_results"
      ],
      "metadata": {
        "colab": {
          "base_uri": "https://localhost:8080/"
        },
        "id": "YAIOmQtYFk50",
        "outputId": "726838ba-2a6d-476d-b704-473bd9318759"
      },
      "execution_count": 53,
      "outputs": [
        {
          "output_type": "execute_result",
          "data": {
            "text/plain": [
              "({'accuracy': 79.2651, 'f1': 78.6219, 'precision': 81.1139, 'recall': 79.2651},\n",
              " {'accuracy': 78.4777, 'f1': 78.0969, 'precision': 79.197, 'recall': 78.4777})"
            ]
          },
          "metadata": {},
          "execution_count": 53
        }
      ]
    },
    {
      "cell_type": "markdown",
      "source": [
        "## Visualizing learned embeddings\n"
      ],
      "metadata": {
        "id": "_0Vi18lDHOqu"
      }
    },
    {
      "cell_type": "code",
      "source": [
        "words_in_vocab = text_vectorizer.get_vocabulary()\n",
        "len(words_in_vocab), words_in_vocab[:10]"
      ],
      "metadata": {
        "colab": {
          "base_uri": "https://localhost:8080/"
        },
        "id": "kX0x5Kh4GrpG",
        "outputId": "8881b91e-1537-4940-c152-4e625f60a55a"
      },
      "execution_count": 55,
      "outputs": [
        {
          "output_type": "execute_result",
          "data": {
            "text/plain": [
              "(10000, ['', '[UNK]', 'the', 'a', 'in', 'to', 'of', 'and', 'i', 'is'])"
            ]
          },
          "metadata": {},
          "execution_count": 55
        }
      ]
    },
    {
      "cell_type": "code",
      "source": [
        "embed_weights = model_1.get_layer(\"embedding\").get_weights()[0]\n",
        "print(embed_weights.shape)"
      ],
      "metadata": {
        "colab": {
          "base_uri": "https://localhost:8080/"
        },
        "id": "TPZU-srZHXfd",
        "outputId": "ddab8483-4a75-457e-8ac5-51e71a8698f1"
      },
      "execution_count": 61,
      "outputs": [
        {
          "output_type": "stream",
          "name": "stdout",
          "text": [
            "(10000, 128)\n"
          ]
        }
      ]
    },
    {
      "cell_type": "code",
      "source": [
        "# # Code below is adapted from:\n",
        "# https://www.tensorflow.org/tutorials/text/word_embeddings#retrieve_the_trained_word_embeddings_and_save_them_to_disk \n",
        "import io\n",
        "\n",
        "# # Create output writers\n",
        "out_v = io.open(\"embedding_vectors.tsv\", \"w\", encoding=\"utf-8\")\n",
        "out_m = io.open(\"embedding_metadata.tsv\", \"w\", encoding=\"utf-8\")\n",
        "\n",
        "# # Write embedding vectors and words to file\n",
        "for num, word in enumerate(words_in_vocab):\n",
        "  if num == 0: \n",
        "     continue # skip padding token\n",
        "  vec = embed_weights[num]\n",
        "  out_m.write(word + \"\\n\") # write words to file\n",
        "  out_v.write(\"\\t\".join([str(x) for x in vec]) + \"\\n\") # write corresponding word vector to file\n",
        "out_v.close()\n",
        "out_m.close()"
      ],
      "metadata": {
        "id": "8smaEkbQHh4B"
      },
      "execution_count": 66,
      "outputs": []
    },
    {
      "cell_type": "code",
      "source": [
        "# # Download files locally to upload to Embedding Projector\n",
        "try:\n",
        "  from google.colab import files\n",
        "except ImportError:\n",
        "  pass\n",
        "else:\n",
        "  files.download(\"embedding_vectors.tsv\")\n",
        "  files.download(\"embedding_metadata.tsv\")"
      ],
      "metadata": {
        "colab": {
          "base_uri": "https://localhost:8080/",
          "height": 17
        },
        "id": "TiBJ0fUcIbXB",
        "outputId": "2da5bf2e-7e2f-4dda-81e8-425d95595cd8"
      },
      "execution_count": 67,
      "outputs": [
        {
          "output_type": "display_data",
          "data": {
            "application/javascript": [
              "\n",
              "    async function download(id, filename, size) {\n",
              "      if (!google.colab.kernel.accessAllowed) {\n",
              "        return;\n",
              "      }\n",
              "      const div = document.createElement('div');\n",
              "      const label = document.createElement('label');\n",
              "      label.textContent = `Downloading \"${filename}\": `;\n",
              "      div.appendChild(label);\n",
              "      const progress = document.createElement('progress');\n",
              "      progress.max = size;\n",
              "      div.appendChild(progress);\n",
              "      document.body.appendChild(div);\n",
              "\n",
              "      const buffers = [];\n",
              "      let downloaded = 0;\n",
              "\n",
              "      const channel = await google.colab.kernel.comms.open(id);\n",
              "      // Send a message to notify the kernel that we're ready.\n",
              "      channel.send({})\n",
              "\n",
              "      for await (const message of channel.messages) {\n",
              "        // Send a message to notify the kernel that we're ready.\n",
              "        channel.send({})\n",
              "        if (message.buffers) {\n",
              "          for (const buffer of message.buffers) {\n",
              "            buffers.push(buffer);\n",
              "            downloaded += buffer.byteLength;\n",
              "            progress.value = downloaded;\n",
              "          }\n",
              "        }\n",
              "      }\n",
              "      const blob = new Blob(buffers, {type: 'application/binary'});\n",
              "      const a = document.createElement('a');\n",
              "      a.href = window.URL.createObjectURL(blob);\n",
              "      a.download = filename;\n",
              "      div.appendChild(a);\n",
              "      a.click();\n",
              "      div.remove();\n",
              "    }\n",
              "  "
            ],
            "text/plain": [
              "<IPython.core.display.Javascript object>"
            ]
          },
          "metadata": {}
        },
        {
          "output_type": "display_data",
          "data": {
            "application/javascript": [
              "download(\"download_722d5322-bbbb-4ac3-8ead-28c33ebbd047\", \"embedding_vectors.tsv\", 15368758)"
            ],
            "text/plain": [
              "<IPython.core.display.Javascript object>"
            ]
          },
          "metadata": {}
        },
        {
          "output_type": "display_data",
          "data": {
            "application/javascript": [
              "\n",
              "    async function download(id, filename, size) {\n",
              "      if (!google.colab.kernel.accessAllowed) {\n",
              "        return;\n",
              "      }\n",
              "      const div = document.createElement('div');\n",
              "      const label = document.createElement('label');\n",
              "      label.textContent = `Downloading \"${filename}\": `;\n",
              "      div.appendChild(label);\n",
              "      const progress = document.createElement('progress');\n",
              "      progress.max = size;\n",
              "      div.appendChild(progress);\n",
              "      document.body.appendChild(div);\n",
              "\n",
              "      const buffers = [];\n",
              "      let downloaded = 0;\n",
              "\n",
              "      const channel = await google.colab.kernel.comms.open(id);\n",
              "      // Send a message to notify the kernel that we're ready.\n",
              "      channel.send({})\n",
              "\n",
              "      for await (const message of channel.messages) {\n",
              "        // Send a message to notify the kernel that we're ready.\n",
              "        channel.send({})\n",
              "        if (message.buffers) {\n",
              "          for (const buffer of message.buffers) {\n",
              "            buffers.push(buffer);\n",
              "            downloaded += buffer.byteLength;\n",
              "            progress.value = downloaded;\n",
              "          }\n",
              "        }\n",
              "      }\n",
              "      const blob = new Blob(buffers, {type: 'application/binary'});\n",
              "      const a = document.createElement('a');\n",
              "      a.href = window.URL.createObjectURL(blob);\n",
              "      a.download = filename;\n",
              "      div.appendChild(a);\n",
              "      a.click();\n",
              "      div.remove();\n",
              "    }\n",
              "  "
            ],
            "text/plain": [
              "<IPython.core.display.Javascript object>"
            ]
          },
          "metadata": {}
        },
        {
          "output_type": "display_data",
          "data": {
            "application/javascript": [
              "download(\"download_f9b39df2-d3a8-40eb-be1b-ed6be92d37bd\", \"embedding_metadata.tsv\", 80388)"
            ],
            "text/plain": [
              "<IPython.core.display.Javascript object>"
            ]
          },
          "metadata": {}
        }
      ]
    },
    {
      "cell_type": "markdown",
      "source": [
        "https://projector.tensorflow.org/"
      ],
      "metadata": {
        "id": "icu3LPMjI6kC"
      }
    },
    {
      "cell_type": "markdown",
      "source": [
        "![image.png](data:image/png;base64,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)"
      ],
      "metadata": {
        "id": "eCtFHPlRKEql"
      }
    },
    {
      "cell_type": "markdown",
      "source": [
        "## Recurrent Neural Networks (RNN's)\n",
        "\n",
        "RNN's are useful for sequence data.\n",
        "\n",
        "The premise of a recurrent neural network is to use the representation of a previous input to aid the representation of a later input.\n",
        "\n"
      ],
      "metadata": {
        "id": "up2kc3ZJLJbL"
      }
    },
    {
      "cell_type": "markdown",
      "source": [
        "### Model 2: LSTM\n",
        "\n",
        "LSTM = long short term memory\n",
        "\n",
        "An RNN typically looks like:\n",
        "\n",
        "```\n",
        "Input(text) -> Tokenize -> Embedding -> Layers (RNNs/dense) -> Output (label probability)\n",
        "```"
      ],
      "metadata": {
        "id": "y3COacKiLlms"
      }
    },
    {
      "cell_type": "code",
      "source": [
        "from tensorflow.keras import layers \n",
        "input = layers.Input(shape=(1, ), dtype=\"string\")\n",
        "x = text_vectorizer(inputs)\n",
        "x = embedding(x)\n",
        "x = layers.LSTM(64, return_sequences=True)(x)\n",
        "x = layers.LSTM(64)(x)\n",
        "outputs = layers.Dense(1, activation=\"sigmoid\")(x) \n",
        "model_2 = tf.keras.Model(inputs, outputs, name=\"model_2_LSTM\")"
      ],
      "metadata": {
        "id": "TueP8YklIKDh"
      },
      "execution_count": 82,
      "outputs": []
    },
    {
      "cell_type": "code",
      "source": [
        "model_2.compile(loss=\"binary_crossentropy\",\n",
        "                optimizer=tf.keras.optimizers.Adam(),\n",
        "                metrics=[\"accuracy\"])"
      ],
      "metadata": {
        "id": "tO_R0qKlMgJI"
      },
      "execution_count": 83,
      "outputs": []
    },
    {
      "cell_type": "code",
      "source": [
        "model_2_history = model_2.fit(x=train_sentences,\n",
        "                              y=train_labels,\n",
        "                              epochs=5,\n",
        "                              validation_data=(val_sentences, val_labels),\n",
        "                              callbacks=[create_tensorboard_callback(dir_name=LOGS_DIR,\n",
        "                                                                     experiment_name=\"model_2_LSTM\")])"
      ],
      "metadata": {
        "colab": {
          "base_uri": "https://localhost:8080/"
        },
        "id": "nBz10kxCNP4d",
        "outputId": "6181c118-5980-4b74-bc33-fdedfb27dda1"
      },
      "execution_count": 84,
      "outputs": [
        {
          "output_type": "stream",
          "name": "stdout",
          "text": [
            "Saving TensorBoard log files to: model_logs/model_2_LSTM/20220218-234346\n",
            "Epoch 1/5\n",
            "215/215 [==============================] - 5s 10ms/step - loss: 0.1089 - accuracy: 0.9625 - val_loss: 0.9866 - val_accuracy: 0.7664\n",
            "Epoch 2/5\n",
            "215/215 [==============================] - 1s 7ms/step - loss: 0.0494 - accuracy: 0.9788 - val_loss: 1.2846 - val_accuracy: 0.7717\n",
            "Epoch 3/5\n",
            "215/215 [==============================] - 2s 7ms/step - loss: 0.0437 - accuracy: 0.9787 - val_loss: 1.2529 - val_accuracy: 0.7664\n",
            "Epoch 4/5\n",
            "215/215 [==============================] - 2s 7ms/step - loss: 0.0377 - accuracy: 0.9818 - val_loss: 1.5621 - val_accuracy: 0.7717\n",
            "Epoch 5/5\n",
            "215/215 [==============================] - 1s 7ms/step - loss: 0.0388 - accuracy: 0.9809 - val_loss: 1.4131 - val_accuracy: 0.7651\n"
          ]
        }
      ]
    },
    {
      "cell_type": "code",
      "source": [
        "model_2_preds = tf.squeeze(tf.round(model_2.predict(val_sentences)))\n",
        "model_2_results = calculate_results(y_true=val_labels,\n",
        "                                    y_pred=model_2_preds)\n",
        "baseline_results, model_1_results, model_2_results"
      ],
      "metadata": {
        "colab": {
          "base_uri": "https://localhost:8080/"
        },
        "id": "lBo8bkpSNbnG",
        "outputId": "b9d16ee6-b662-4951-fa4a-93550666ea69"
      },
      "execution_count": 85,
      "outputs": [
        {
          "output_type": "execute_result",
          "data": {
            "text/plain": [
              "({'accuracy': 79.2651, 'f1': 78.6219, 'precision': 81.1139, 'recall': 79.2651},\n",
              " {'accuracy': 78.4777, 'f1': 78.0969, 'precision': 79.197, 'recall': 78.4777},\n",
              " {'accuracy': 76.5092, 'f1': 76.1707, 'precision': 76.9239, 'recall': 76.5092})"
            ]
          },
          "metadata": {},
          "execution_count": 85
        }
      ]
    },
    {
      "cell_type": "markdown",
      "source": [
        "### Model 3: GRU\n",
        "\n",
        "Gated recurrent unit.\n",
        "\n",
        "The GRU cell has similar features to an LSTM cell but has less parameters"
      ],
      "metadata": {
        "id": "gYpJiswrOTzh"
      }
    },
    {
      "cell_type": "code",
      "source": [
        "from tensorflow.keras import layers\n",
        "input = layers.Input(shape=(1,), dtype=tf.string)\n",
        "x = text_vectorizer(inputs)\n",
        "x = embedding(x)\n",
        "x = layers.GRU(64)(x)\n",
        "#x = layers.GRU(64, return_sequences=True)(x) # if you want to stack recurrent layers\n",
        "#x = layers.LSTM(64)(x)\n",
        "#x = layers.GRU(64)(x)\n",
        "#x = layers.Dense(64, activation=\"sigmoid\")(x)\n",
        "outputs = layers.Dense(1, activation=\"sigmoid\")(x)\n",
        "model_3 = tf.keras.Model(inputs, outputs, name=\"model_3_GRU\")"
      ],
      "metadata": {
        "id": "QkRKuWxwN4fo"
      },
      "execution_count": 92,
      "outputs": []
    },
    {
      "cell_type": "code",
      "source": [
        "model_3.compile(loss=\"binary_crossentropy\",\n",
        "                optimizer=tf.keras.optimizers.Adam(),\n",
        "                metrics=[\"accuracy\"])"
      ],
      "metadata": {
        "id": "Q_9gHdYSO6sk"
      },
      "execution_count": 93,
      "outputs": []
    },
    {
      "cell_type": "code",
      "source": [
        "model_3_history = model_3.fit(x=train_sentences,\n",
        "                              y=train_labels,\n",
        "                              epochs=5,\n",
        "                              validation_data=(val_sentences, val_labels),\n",
        "                              callbacks=[create_tensorboard_callback(dir_name=LOGS_DIR,\n",
        "                                                                     experiment_name=\"model_3_GRU\")])"
      ],
      "metadata": {
        "colab": {
          "base_uri": "https://localhost:8080/"
        },
        "id": "bP8igY0rPQ5Y",
        "outputId": "d75ae758-62ee-40ce-b9f2-59818985d259"
      },
      "execution_count": 94,
      "outputs": [
        {
          "output_type": "stream",
          "name": "stdout",
          "text": [
            "Saving TensorBoard log files to: model_logs/model_3_GRU/20220218-235014\n",
            "Epoch 1/5\n",
            "215/215 [==============================] - 3s 7ms/step - loss: 0.1257 - accuracy: 0.9511 - val_loss: 0.9811 - val_accuracy: 0.7651\n",
            "Epoch 2/5\n",
            "215/215 [==============================] - 1s 6ms/step - loss: 0.0556 - accuracy: 0.9778 - val_loss: 0.9882 - val_accuracy: 0.7743\n",
            "Epoch 3/5\n",
            "215/215 [==============================] - 1s 5ms/step - loss: 0.0476 - accuracy: 0.9784 - val_loss: 1.0483 - val_accuracy: 0.7717\n",
            "Epoch 4/5\n",
            "215/215 [==============================] - 1s 5ms/step - loss: 0.0400 - accuracy: 0.9806 - val_loss: 1.1332 - val_accuracy: 0.7730\n",
            "Epoch 5/5\n",
            "215/215 [==============================] - 1s 5ms/step - loss: 0.0373 - accuracy: 0.9806 - val_loss: 1.3690 - val_accuracy: 0.7730\n"
          ]
        }
      ]
    },
    {
      "cell_type": "code",
      "source": [
        "model_3_preds = tf.squeeze(tf.round(model_3.predict(val_sentences)))\n",
        "model_3_results = calculate_results(y_true=val_labels,\n",
        "                                    y_pred=model_3_preds)\n",
        "baseline_results, model_1_results, model_2_results, model_3_results"
      ],
      "metadata": {
        "colab": {
          "base_uri": "https://localhost:8080/"
        },
        "id": "GOwV_6ezPkS0",
        "outputId": "164ea9ca-4574-4fcc-8dc5-bbb19013af3f"
      },
      "execution_count": 95,
      "outputs": [
        {
          "output_type": "execute_result",
          "data": {
            "text/plain": [
              "({'accuracy': 79.2651, 'f1': 78.6219, 'precision': 81.1139, 'recall': 79.2651},\n",
              " {'accuracy': 78.4777, 'f1': 78.0969, 'precision': 79.197, 'recall': 78.4777},\n",
              " {'accuracy': 76.5092, 'f1': 76.1707, 'precision': 76.9239, 'recall': 76.5092},\n",
              " {'accuracy': 77.2966, 'f1': 77.0151, 'precision': 77.6321, 'recall': 77.2966})"
            ]
          },
          "metadata": {},
          "execution_count": 95
        }
      ]
    },
    {
      "cell_type": "markdown",
      "source": [
        "### Model 4: Bidirectional RNN\n",
        "\n",
        "Normal RNN's go from left to right, however, a bidirectional RNN goes from left to right as well as right to left."
      ],
      "metadata": {
        "id": "y_ygdxMjQS2j"
      }
    },
    {
      "cell_type": "code",
      "source": [
        "from tensorflow.keras import layers\n",
        "imputs = layers.Input(shape=(1,), dtype=tf.string)\n",
        "x = text_vectorizer(inputs)\n",
        "x = embedding(x)\n",
        "#x = layers.Bidirectional(layers.LSTM(64, return_sequences=True))(x)\n",
        "x = layers.Bidirectional(layers.LSTM(64))(x)\n",
        "outputs = layers.Dense(1, activation=\"sigmoid\")(x)\n",
        "model_4 = tf.keras.Model(inputs, outputs, name=\"model_4_bidirectional\")"
      ],
      "metadata": {
        "id": "jqVYw5v0PrS9"
      },
      "execution_count": 111,
      "outputs": []
    },
    {
      "cell_type": "code",
      "source": [
        "model_4.summary()"
      ],
      "metadata": {
        "colab": {
          "base_uri": "https://localhost:8080/"
        },
        "id": "1eX5UjbQQ1vi",
        "outputId": "18499085-e175-4428-cc95-0ddb3062b4d6"
      },
      "execution_count": 112,
      "outputs": [
        {
          "output_type": "stream",
          "name": "stdout",
          "text": [
            "Model: \"model_4_bidirectional\"\n",
            "_________________________________________________________________\n",
            " Layer (type)                Output Shape              Param #   \n",
            "=================================================================\n",
            " input_2 (InputLayer)        [(None, 1)]               0         \n",
            "                                                                 \n",
            " text_vectorization (TextVec  (None, 15)               0         \n",
            " torization)                                                     \n",
            "                                                                 \n",
            " embedding (Embedding)       (None, 15, 128)           1280000   \n",
            "                                                                 \n",
            " bidirectional_5 (Bidirectio  (None, 128)              98816     \n",
            " nal)                                                            \n",
            "                                                                 \n",
            " dense_16 (Dense)            (None, 1)                 129       \n",
            "                                                                 \n",
            "=================================================================\n",
            "Total params: 1,378,945\n",
            "Trainable params: 1,378,945\n",
            "Non-trainable params: 0\n",
            "_________________________________________________________________\n"
          ]
        }
      ]
    },
    {
      "cell_type": "code",
      "source": [
        "model_4.compile(loss=\"binary_crossentropy\",\n",
        "                optimizer=tf.keras.optimizers.Adam(),\n",
        "                metrics=[\"accuracy\"])"
      ],
      "metadata": {
        "id": "YpcDFzlFRRgo"
      },
      "execution_count": 113,
      "outputs": []
    },
    {
      "cell_type": "code",
      "source": [
        "model_4_history = model_4.fit(x=train_sentences,\n",
        "                              y=train_labels,\n",
        "                              epochs=5,\n",
        "                              validation_data=(val_sentences, val_labels),\n",
        "                              callbacks=[create_tensorboard_callback(dir_name=LOGS_DIR,\n",
        "                                                                     experiment_name=\"model_4_bidirecctional\")])"
      ],
      "metadata": {
        "colab": {
          "base_uri": "https://localhost:8080/"
        },
        "id": "BYZnjSjlRikZ",
        "outputId": "3b86ffe1-c471-48e5-db9b-54c2f2e5e30e"
      },
      "execution_count": 114,
      "outputs": [
        {
          "output_type": "stream",
          "name": "stdout",
          "text": [
            "Saving TensorBoard log files to: model_logs/model_4_bidirecctional/20220219-000105\n",
            "Epoch 1/5\n",
            "215/215 [==============================] - 5s 10ms/step - loss: 0.0835 - accuracy: 0.9765 - val_loss: 1.2484 - val_accuracy: 0.7703\n",
            "Epoch 2/5\n",
            "215/215 [==============================] - 2s 7ms/step - loss: 0.0358 - accuracy: 0.9818 - val_loss: 1.2547 - val_accuracy: 0.7585\n",
            "Epoch 3/5\n",
            "215/215 [==============================] - 2s 7ms/step - loss: 0.0320 - accuracy: 0.9848 - val_loss: 1.4507 - val_accuracy: 0.7572\n",
            "Epoch 4/5\n",
            "215/215 [==============================] - 1s 7ms/step - loss: 0.0319 - accuracy: 0.9844 - val_loss: 1.5767 - val_accuracy: 0.7651\n",
            "Epoch 5/5\n",
            "215/215 [==============================] - 2s 7ms/step - loss: 0.0292 - accuracy: 0.9832 - val_loss: 1.5701 - val_accuracy: 0.7651\n"
          ]
        }
      ]
    },
    {
      "cell_type": "code",
      "source": [
        "model_4_preds = tf.squeeze(tf.round(model_4.predict(val_sentences)))\n",
        "model_4_results = calculate_results(y_true=val_labels,\n",
        "                                    y_pred=model_4_preds)\n",
        "baseline_results, model_1_results, model_2_results, model_3_results, model_4_results"
      ],
      "metadata": {
        "colab": {
          "base_uri": "https://localhost:8080/"
        },
        "id": "lznX3VCORq0I",
        "outputId": "9f78cd1a-4c19-4b61-8d52-775332bfcc9d"
      },
      "execution_count": 115,
      "outputs": [
        {
          "output_type": "execute_result",
          "data": {
            "text/plain": [
              "({'accuracy': 79.2651, 'f1': 78.6219, 'precision': 81.1139, 'recall': 79.2651},\n",
              " {'accuracy': 78.4777, 'f1': 78.0969, 'precision': 79.197, 'recall': 78.4777},\n",
              " {'accuracy': 76.5092, 'f1': 76.1707, 'precision': 76.9239, 'recall': 76.5092},\n",
              " {'accuracy': 77.2966, 'f1': 77.0151, 'precision': 77.6321, 'recall': 77.2966},\n",
              " {'accuracy': 76.5092, 'f1': 76.4252, 'precision': 76.4824, 'recall': 76.5092})"
            ]
          },
          "metadata": {},
          "execution_count": 115
        }
      ]
    },
    {
      "cell_type": "markdown",
      "source": [
        "## Convolutional Neural Networks for Text"
      ],
      "metadata": {
        "id": "qnYJpf6lScG1"
      }
    },
    {
      "cell_type": "markdown",
      "source": [
        "### Model 5: Conv1D"
      ],
      "metadata": {
        "id": "5lRzCy0VShA4"
      }
    },
    {
      "cell_type": "code",
      "source": [
        "from tensorflow.keras import layers \n",
        "inputs = layers.Input(shape=(1,), dtype=tf.string)\n",
        "x = text_vectorizer(inputs)\n",
        "x = embedding(x)\n",
        "x = layers.Conv1D(filters=64, \n",
        "                  kernel_size=5, \n",
        "                  strides=1, \n",
        "                  activation=\"relu\", \n",
        "                  padding=\"valid\")(x)\n",
        "x = layers.GlobalMaxPool1D()(x)\n",
        "outputs = layers.Dense(1, activation=\"sigmoid\")(x)\n",
        "model_5 = tf.keras.Model(inputs, outputs, name=\"model_5_Conv1D\")\n",
        "\n",
        "model_5.compile(loss=\"binary_crossentropy\",\n",
        "                optimizer=tf.keras.optimizers.Adam(),\n",
        "                metrics=[\"accuracy\"])"
      ],
      "metadata": {
        "id": "BpxAyueeSkgO"
      },
      "execution_count": 119,
      "outputs": []
    },
    {
      "cell_type": "code",
      "source": [
        "model_5_history = model_5.fit(x=train_sentences,\n",
        "                              y=train_labels,\n",
        "                              epochs=5,\n",
        "                              validation_data=(val_sentences, val_labels),\n",
        "                              callbacks=[create_tensorboard_callback(dir_name=LOGS_DIR,\n",
        "                                                                     experiment_name=\"model_5_Conv1D\")])"
      ],
      "metadata": {
        "colab": {
          "base_uri": "https://localhost:8080/"
        },
        "id": "VF2bG9LXTV5f",
        "outputId": "8bc005a5-9f88-4a4d-9e87-3e0b93edf604"
      },
      "execution_count": 120,
      "outputs": [
        {
          "output_type": "stream",
          "name": "stdout",
          "text": [
            "Saving TensorBoard log files to: model_logs/model_5_Conv1D/20220219-000801\n",
            "Epoch 1/5\n",
            "215/215 [==============================] - 8s 6ms/step - loss: 0.0991 - accuracy: 0.9675 - val_loss: 1.0391 - val_accuracy: 0.7598\n",
            "Epoch 2/5\n",
            "215/215 [==============================] - 1s 5ms/step - loss: 0.0606 - accuracy: 0.9790 - val_loss: 1.1829 - val_accuracy: 0.7559\n",
            "Epoch 3/5\n",
            "215/215 [==============================] - 1s 4ms/step - loss: 0.0517 - accuracy: 0.9801 - val_loss: 1.2639 - val_accuracy: 0.7572\n",
            "Epoch 4/5\n",
            "215/215 [==============================] - 1s 4ms/step - loss: 0.0475 - accuracy: 0.9804 - val_loss: 1.2700 - val_accuracy: 0.7520\n",
            "Epoch 5/5\n",
            "215/215 [==============================] - 1s 5ms/step - loss: 0.0441 - accuracy: 0.9810 - val_loss: 1.3030 - val_accuracy: 0.7520\n"
          ]
        }
      ]
    },
    {
      "cell_type": "code",
      "source": [
        "model_5_preds = tf.squeeze(tf.round(model_5.predict(val_sentences)))\n",
        "model_5_results = calculate_results(y_true=val_labels,\n",
        "                                    y_pred=model_5_preds)\n",
        "baseline_results, model_1_results, model_2_results, model_3_results, model_4_results, model_5_results"
      ],
      "metadata": {
        "colab": {
          "base_uri": "https://localhost:8080/"
        },
        "id": "GSIiMHy6ToyV",
        "outputId": "279be393-ed14-46c6-de52-e8daa1b12031"
      },
      "execution_count": 123,
      "outputs": [
        {
          "output_type": "execute_result",
          "data": {
            "text/plain": [
              "({'accuracy': 79.2651, 'f1': 78.6219, 'precision': 81.1139, 'recall': 79.2651},\n",
              " {'accuracy': 78.4777, 'f1': 78.0969, 'precision': 79.197, 'recall': 78.4777},\n",
              " {'accuracy': 76.5092, 'f1': 76.1707, 'precision': 76.9239, 'recall': 76.5092},\n",
              " {'accuracy': 77.2966, 'f1': 77.0151, 'precision': 77.6321, 'recall': 77.2966},\n",
              " {'accuracy': 76.5092, 'f1': 76.4252, 'precision': 76.4824, 'recall': 76.5092},\n",
              " {'accuracy': 75.1969, 'f1': 75.1603, 'precision': 75.1553, 'recall': 75.1969})"
            ]
          },
          "metadata": {},
          "execution_count": 123
        }
      ]
    },
    {
      "cell_type": "markdown",
      "source": [
        "## Model 6: TensorFlow Hub Pretrained Sentence Encoder"
      ],
      "metadata": {
        "id": "OGU8oOhoUtor"
      }
    },
    {
      "cell_type": "code",
      "source": [
        "import tensorflow_hub as hub\n",
        "\n",
        "embed = hub.load(\"https://tfhub.dev/google/universal-sentence-encoder-large/5\")"
      ],
      "metadata": {
        "id": "kLNFCUvnTxHu"
      },
      "execution_count": 124,
      "outputs": []
    },
    {
      "cell_type": "code",
      "source": [
        "sentence_encoder_layer = hub.KerasLayer(\"https://tfhub.dev/google/universal-sentence-encoder-large/5\",\n",
        "                                        input_shape=[],\n",
        "                                        dtype=tf.string, \n",
        "                                        trainable=False,\n",
        "                                        name=\"USE\")"
      ],
      "metadata": {
        "id": "hO_KFKSkU0hX"
      },
      "execution_count": 125,
      "outputs": []
    },
    {
      "cell_type": "code",
      "source": [
        "model_6 = tf.keras.Sequential([\n",
        "                               sentence_encoder_layer,\n",
        "                               layers.Dense(64, activation=\"relu\"),\n",
        "                               layers.Dense(1, activation=\"sigmoid\")\n",
        "], name=\"model_6_USE\")\n",
        "\n",
        "model_6.compile(loss=\"binary_crossentropy\",\n",
        "                optimizer=tf.keras.optimizers.Adam(),\n",
        "                metrics=[\"accuracy\"])"
      ],
      "metadata": {
        "id": "ToheP7BGVRkc"
      },
      "execution_count": 131,
      "outputs": []
    },
    {
      "cell_type": "code",
      "source": [
        "model_6.summary()"
      ],
      "metadata": {
        "colab": {
          "base_uri": "https://localhost:8080/"
        },
        "id": "P-YA_io2Vl3D",
        "outputId": "0aaec3de-3ebb-415c-c7c3-20d1532df9db"
      },
      "execution_count": 127,
      "outputs": [
        {
          "output_type": "stream",
          "name": "stdout",
          "text": [
            "Model: \"model_6_USE\"\n",
            "_________________________________________________________________\n",
            " Layer (type)                Output Shape              Param #   \n",
            "=================================================================\n",
            " USE (KerasLayer)            (None, 512)               147354880 \n",
            "                                                                 \n",
            " dense_18 (Dense)            (None, 1)                 513       \n",
            "                                                                 \n",
            "=================================================================\n",
            "Total params: 147,355,393\n",
            "Trainable params: 513\n",
            "Non-trainable params: 147,354,880\n",
            "_________________________________________________________________\n"
          ]
        }
      ]
    },
    {
      "cell_type": "code",
      "source": [
        "model_6_history = model_6.fit(x=train_sentences,\n",
        "                              y=train_labels,\n",
        "                              epochs=5,\n",
        "                              validation_data=(val_sentences, val_labels),\n",
        "                              callbacks=[create_tensorboard_callback(dir_name=LOGS_DIR,\n",
        "                                                                     experiment_name=\"model_6_USE\")])"
      ],
      "metadata": {
        "colab": {
          "base_uri": "https://localhost:8080/"
        },
        "id": "ljb7azaAVqRE",
        "outputId": "cf4ca148-4e5b-416e-9024-7bc91385c43b"
      },
      "execution_count": 132,
      "outputs": [
        {
          "output_type": "stream",
          "name": "stdout",
          "text": [
            "Saving TensorBoard log files to: model_logs/model_6_USE/20220219-002202\n",
            "Epoch 1/5\n",
            "215/215 [==============================] - 24s 65ms/step - loss: 0.4982 - accuracy: 0.7996 - val_loss: 0.4260 - val_accuracy: 0.8255\n",
            "Epoch 2/5\n",
            "215/215 [==============================] - 9s 40ms/step - loss: 0.4004 - accuracy: 0.8267 - val_loss: 0.4216 - val_accuracy: 0.8228\n",
            "Epoch 3/5\n",
            "215/215 [==============================] - 9s 43ms/step - loss: 0.3832 - accuracy: 0.8329 - val_loss: 0.4208 - val_accuracy: 0.8281\n",
            "Epoch 4/5\n",
            "215/215 [==============================] - 9s 40ms/step - loss: 0.3732 - accuracy: 0.8370 - val_loss: 0.4195 - val_accuracy: 0.8176\n",
            "Epoch 5/5\n",
            "215/215 [==============================] - 9s 42ms/step - loss: 0.3645 - accuracy: 0.8422 - val_loss: 0.4184 - val_accuracy: 0.8150\n"
          ]
        }
      ]
    },
    {
      "cell_type": "code",
      "source": [
        "model_6_preds = tf.squeeze(tf.round(model_6.predict(val_sentences)))\n",
        "model_6_results = calculate_results(y_true=val_labels,\n",
        "                                    y_pred=model_6_preds)\n",
        "baseline_results, model_1_results, model_2_results, model_3_results, model_4_results, model_5_results, model_6_results"
      ],
      "metadata": {
        "colab": {
          "base_uri": "https://localhost:8080/"
        },
        "id": "idAoL3HTVvkF",
        "outputId": "76218975-1eda-4cad-ed5b-5bc662d76b17"
      },
      "execution_count": 133,
      "outputs": [
        {
          "output_type": "execute_result",
          "data": {
            "text/plain": [
              "({'accuracy': 79.2651, 'f1': 78.6219, 'precision': 81.1139, 'recall': 79.2651},\n",
              " {'accuracy': 78.4777, 'f1': 78.0969, 'precision': 79.197, 'recall': 78.4777},\n",
              " {'accuracy': 76.5092, 'f1': 76.1707, 'precision': 76.9239, 'recall': 76.5092},\n",
              " {'accuracy': 77.2966, 'f1': 77.0151, 'precision': 77.6321, 'recall': 77.2966},\n",
              " {'accuracy': 76.5092, 'f1': 76.4252, 'precision': 76.4824, 'recall': 76.5092},\n",
              " {'accuracy': 75.1969, 'f1': 75.1603, 'precision': 75.1553, 'recall': 75.1969},\n",
              " {'accuracy': 81.4961, 'f1': 81.3814, 'precision': 81.6185, 'recall': 81.4961})"
            ]
          },
          "metadata": {},
          "execution_count": 133
        }
      ]
    },
    {
      "cell_type": "markdown",
      "source": [
        "## Model 7: TF Hub Pretrained USE but with 10% of training data"
      ],
      "metadata": {
        "id": "gTyFkaUTbJXD"
      }
    },
    {
      "cell_type": "code",
      "source": [
        "train_10_percent_split = int(0.1 * len(train_sentences))\n",
        "train_sentences_10_percent = train_sentences[:train_10_percent_split]\n",
        "train_labels_10_percent = train_labels[:train_10_percent_split]"
      ],
      "metadata": {
        "id": "WJp6uAmoWebA"
      },
      "execution_count": 145,
      "outputs": []
    },
    {
      "cell_type": "code",
      "source": [
        "model_7 = tf.keras.models.clone_model(model_6)\n",
        "\n",
        "model_7.compile(loss=\"binary_crossentropy\",\n",
        "                optimizer=tf.keras.optimizers.Adam(),\n",
        "                metrics=[\"accuracy\"])"
      ],
      "metadata": {
        "id": "_mR7MMJzbjMq"
      },
      "execution_count": 146,
      "outputs": []
    },
    {
      "cell_type": "code",
      "source": [
        "model_7.summary()"
      ],
      "metadata": {
        "colab": {
          "base_uri": "https://localhost:8080/"
        },
        "id": "cY1ECdpVcbpN",
        "outputId": "ad9e2824-06e6-4598-f232-09406f85c95b"
      },
      "execution_count": 143,
      "outputs": [
        {
          "output_type": "stream",
          "name": "stdout",
          "text": [
            "Model: \"model_6_USE\"\n",
            "_________________________________________________________________\n",
            " Layer (type)                Output Shape              Param #   \n",
            "=================================================================\n",
            " USE (KerasLayer)            (None, 512)               147354880 \n",
            "                                                                 \n",
            " dense_19 (Dense)            (None, 64)                32832     \n",
            "                                                                 \n",
            " dense_20 (Dense)            (None, 1)                 65        \n",
            "                                                                 \n",
            "=================================================================\n",
            "Total params: 147,387,777\n",
            "Trainable params: 32,897\n",
            "Non-trainable params: 147,354,880\n",
            "_________________________________________________________________\n"
          ]
        }
      ]
    },
    {
      "cell_type": "code",
      "source": [
        "model_7_history = model_7.fit(x=train_sentences_10_percent,\n",
        "                              y=train_labels_10_percent,\n",
        "                              epochs=5,\n",
        "                              validation_data=(val_sentences, val_labels),\n",
        "                              callbacks=[create_tensorboard_callback(dir_name=LOGS_DIR,\n",
        "                                                                     experiment_name=\"model_7_USE_10_percent\")])"
      ],
      "metadata": {
        "colab": {
          "base_uri": "https://localhost:8080/"
        },
        "id": "rp9_PYZLb2Yt",
        "outputId": "bb076524-5764-46d7-ac3b-b41cbaff079b"
      },
      "execution_count": 147,
      "outputs": [
        {
          "output_type": "stream",
          "name": "stdout",
          "text": [
            "Saving TensorBoard log files to: model_logs/model_7_USE_10_percent/20220219-005405\n",
            "Epoch 1/5\n",
            "22/22 [==============================] - 34s 393ms/step - loss: 0.6695 - accuracy: 0.7255 - val_loss: 0.6437 - val_accuracy: 0.7664\n",
            "Epoch 2/5\n",
            "22/22 [==============================] - 2s 100ms/step - loss: 0.5983 - accuracy: 0.8175 - val_loss: 0.5811 - val_accuracy: 0.7822\n",
            "Epoch 3/5\n",
            "22/22 [==============================] - 2s 79ms/step - loss: 0.5207 - accuracy: 0.8292 - val_loss: 0.5216 - val_accuracy: 0.8005\n",
            "Epoch 4/5\n",
            "22/22 [==============================] - 2s 77ms/step - loss: 0.4594 - accuracy: 0.8292 - val_loss: 0.4839 - val_accuracy: 0.8031\n",
            "Epoch 5/5\n",
            "22/22 [==============================] - 2s 78ms/step - loss: 0.4173 - accuracy: 0.8307 - val_loss: 0.4658 - val_accuracy: 0.7992\n"
          ]
        }
      ]
    },
    {
      "cell_type": "code",
      "source": [
        "model_7_preds = tf.squeeze(tf.round(model_7.predict(val_sentences)))\n",
        "model_7_results = calculate_results(y_true=val_labels,\n",
        "                                    y_pred=model_7_preds)\n",
        "baseline_results, model_1_results, model_2_results, model_3_results, model_4_results, model_5_results, model_6_results, model_7_results"
      ],
      "metadata": {
        "colab": {
          "base_uri": "https://localhost:8080/"
        },
        "id": "VzP6-8wcb-hK",
        "outputId": "0eff0afd-d685-45bd-9d34-7c77cd8cebad"
      },
      "execution_count": 148,
      "outputs": [
        {
          "output_type": "execute_result",
          "data": {
            "text/plain": [
              "({'accuracy': 79.2651, 'f1': 78.6219, 'precision': 81.1139, 'recall': 79.2651},\n",
              " {'accuracy': 78.4777, 'f1': 78.0969, 'precision': 79.197, 'recall': 78.4777},\n",
              " {'accuracy': 76.5092, 'f1': 76.1707, 'precision': 76.9239, 'recall': 76.5092},\n",
              " {'accuracy': 77.2966, 'f1': 77.0151, 'precision': 77.6321, 'recall': 77.2966},\n",
              " {'accuracy': 76.5092, 'f1': 76.4252, 'precision': 76.4824, 'recall': 76.5092},\n",
              " {'accuracy': 75.1969, 'f1': 75.1603, 'precision': 75.1553, 'recall': 75.1969},\n",
              " {'accuracy': 81.4961, 'f1': 81.3814, 'precision': 81.6185, 'recall': 81.4961},\n",
              " {'accuracy': 79.9213, 'f1': 79.6723, 'precision': 80.355, 'recall': 79.9213})"
            ]
          },
          "metadata": {},
          "execution_count": 148
        }
      ]
    },
    {
      "cell_type": "markdown",
      "source": [
        "## Comparing the performance of each of our models"
      ],
      "metadata": {
        "id": "vZNoz247eoBE"
      }
    },
    {
      "cell_type": "code",
      "source": [
        "all_model_results = pd.DataFrame({\"0_baseline\":baseline_results,\n",
        "                                  \"model_1_simple_dense\":model_1_results,\n",
        "                                  \"model_2_LSTM\":model_2_results,\n",
        "                                  \"model_3_GRU\":model_3_results,\n",
        "                                  \"model_4_Bidirectional\":model_4_results,\n",
        "                                  \"model_5_Conv1d\":model_5_results,\n",
        "                                  \"model_6_USE\":model_6_results,\n",
        "                                  \"model_7_USE_10_percent\":model_7_results})\n",
        "D.transpose()"
      ],
      "metadata": {
        "colab": {
          "base_uri": "https://localhost:8080/",
          "height": 300
        },
        "id": "V8oPhvU0erhN",
        "outputId": "aa514553-ec69-4131-d4b7-ede2c5803041"
      },
      "execution_count": 150,
      "outputs": [
        {
          "output_type": "execute_result",
          "data": {
            "text/html": [
              "\n",
              "  <div id=\"df-e1693d2f-bf02-468e-b7dc-61a8f355790c\">\n",
              "    <div class=\"colab-df-container\">\n",
              "      <div>\n",
              "<style scoped>\n",
              "    .dataframe tbody tr th:only-of-type {\n",
              "        vertical-align: middle;\n",
              "    }\n",
              "\n",
              "    .dataframe tbody tr th {\n",
              "        vertical-align: top;\n",
              "    }\n",
              "\n",
              "    .dataframe thead th {\n",
              "        text-align: right;\n",
              "    }\n",
              "</style>\n",
              "<table border=\"1\" class=\"dataframe\">\n",
              "  <thead>\n",
              "    <tr style=\"text-align: right;\">\n",
              "      <th></th>\n",
              "      <th>accuracy</th>\n",
              "      <th>precision</th>\n",
              "      <th>recall</th>\n",
              "      <th>f1</th>\n",
              "    </tr>\n",
              "  </thead>\n",
              "  <tbody>\n",
              "    <tr>\n",
              "      <th>0_baseline</th>\n",
              "      <td>79.2651</td>\n",
              "      <td>81.1139</td>\n",
              "      <td>79.2651</td>\n",
              "      <td>78.6219</td>\n",
              "    </tr>\n",
              "    <tr>\n",
              "      <th>model_1_simple_dense</th>\n",
              "      <td>78.4777</td>\n",
              "      <td>79.1970</td>\n",
              "      <td>78.4777</td>\n",
              "      <td>78.0969</td>\n",
              "    </tr>\n",
              "    <tr>\n",
              "      <th>model_2_LSTM</th>\n",
              "      <td>76.5092</td>\n",
              "      <td>76.9239</td>\n",
              "      <td>76.5092</td>\n",
              "      <td>76.1707</td>\n",
              "    </tr>\n",
              "    <tr>\n",
              "      <th>model_3_GRU</th>\n",
              "      <td>77.2966</td>\n",
              "      <td>77.6321</td>\n",
              "      <td>77.2966</td>\n",
              "      <td>77.0151</td>\n",
              "    </tr>\n",
              "    <tr>\n",
              "      <th>model_4_Bidirectional</th>\n",
              "      <td>76.5092</td>\n",
              "      <td>76.4824</td>\n",
              "      <td>76.5092</td>\n",
              "      <td>76.4252</td>\n",
              "    </tr>\n",
              "    <tr>\n",
              "      <th>model_5_Conv1d</th>\n",
              "      <td>75.1969</td>\n",
              "      <td>75.1553</td>\n",
              "      <td>75.1969</td>\n",
              "      <td>75.1603</td>\n",
              "    </tr>\n",
              "    <tr>\n",
              "      <th>model_6_USE</th>\n",
              "      <td>81.4961</td>\n",
              "      <td>81.6185</td>\n",
              "      <td>81.4961</td>\n",
              "      <td>81.3814</td>\n",
              "    </tr>\n",
              "    <tr>\n",
              "      <th>model_7_USE_10_percent</th>\n",
              "      <td>79.9213</td>\n",
              "      <td>80.3550</td>\n",
              "      <td>79.9213</td>\n",
              "      <td>79.6723</td>\n",
              "    </tr>\n",
              "  </tbody>\n",
              "</table>\n",
              "</div>\n",
              "      <button class=\"colab-df-convert\" onclick=\"convertToInteractive('df-e1693d2f-bf02-468e-b7dc-61a8f355790c')\"\n",
              "              title=\"Convert this dataframe to an interactive table.\"\n",
              "              style=\"display:none;\">\n",
              "        \n",
              "  <svg xmlns=\"http://www.w3.org/2000/svg\" height=\"24px\"viewBox=\"0 0 24 24\"\n",
              "       width=\"24px\">\n",
              "    <path d=\"M0 0h24v24H0V0z\" fill=\"none\"/>\n",
              "    <path d=\"M18.56 5.44l.94 2.06.94-2.06 2.06-.94-2.06-.94-.94-2.06-.94 2.06-2.06.94zm-11 1L8.5 8.5l.94-2.06 2.06-.94-2.06-.94L8.5 2.5l-.94 2.06-2.06.94zm10 10l.94 2.06.94-2.06 2.06-.94-2.06-.94-.94-2.06-.94 2.06-2.06.94z\"/><path d=\"M17.41 7.96l-1.37-1.37c-.4-.4-.92-.59-1.43-.59-.52 0-1.04.2-1.43.59L10.3 9.45l-7.72 7.72c-.78.78-.78 2.05 0 2.83L4 21.41c.39.39.9.59 1.41.59.51 0 1.02-.2 1.41-.59l7.78-7.78 2.81-2.81c.8-.78.8-2.07 0-2.86zM5.41 20L4 18.59l7.72-7.72 1.47 1.35L5.41 20z\"/>\n",
              "  </svg>\n",
              "      </button>\n",
              "      \n",
              "  <style>\n",
              "    .colab-df-container {\n",
              "      display:flex;\n",
              "      flex-wrap:wrap;\n",
              "      gap: 12px;\n",
              "    }\n",
              "\n",
              "    .colab-df-convert {\n",
              "      background-color: #E8F0FE;\n",
              "      border: none;\n",
              "      border-radius: 50%;\n",
              "      cursor: pointer;\n",
              "      display: none;\n",
              "      fill: #1967D2;\n",
              "      height: 32px;\n",
              "      padding: 0 0 0 0;\n",
              "      width: 32px;\n",
              "    }\n",
              "\n",
              "    .colab-df-convert:hover {\n",
              "      background-color: #E2EBFA;\n",
              "      box-shadow: 0px 1px 2px rgba(60, 64, 67, 0.3), 0px 1px 3px 1px rgba(60, 64, 67, 0.15);\n",
              "      fill: #174EA6;\n",
              "    }\n",
              "\n",
              "    [theme=dark] .colab-df-convert {\n",
              "      background-color: #3B4455;\n",
              "      fill: #D2E3FC;\n",
              "    }\n",
              "\n",
              "    [theme=dark] .colab-df-convert:hover {\n",
              "      background-color: #434B5C;\n",
              "      box-shadow: 0px 1px 3px 1px rgba(0, 0, 0, 0.15);\n",
              "      filter: drop-shadow(0px 1px 2px rgba(0, 0, 0, 0.3));\n",
              "      fill: #FFFFFF;\n",
              "    }\n",
              "  </style>\n",
              "\n",
              "      <script>\n",
              "        const buttonEl =\n",
              "          document.querySelector('#df-e1693d2f-bf02-468e-b7dc-61a8f355790c button.colab-df-convert');\n",
              "        buttonEl.style.display =\n",
              "          google.colab.kernel.accessAllowed ? 'block' : 'none';\n",
              "\n",
              "        async function convertToInteractive(key) {\n",
              "          const element = document.querySelector('#df-e1693d2f-bf02-468e-b7dc-61a8f355790c');\n",
              "          const dataTable =\n",
              "            await google.colab.kernel.invokeFunction('convertToInteractive',\n",
              "                                                     [key], {});\n",
              "          if (!dataTable) return;\n",
              "\n",
              "          const docLinkHtml = 'Like what you see? Visit the ' +\n",
              "            '<a target=\"_blank\" href=https://colab.research.google.com/notebooks/data_table.ipynb>data table notebook</a>'\n",
              "            + ' to learn more about interactive tables.';\n",
              "          element.innerHTML = '';\n",
              "          dataTable['output_type'] = 'display_data';\n",
              "          await google.colab.output.renderOutput(dataTable, element);\n",
              "          const docLink = document.createElement('div');\n",
              "          docLink.innerHTML = docLinkHtml;\n",
              "          element.appendChild(docLink);\n",
              "        }\n",
              "      </script>\n",
              "    </div>\n",
              "  </div>\n",
              "  "
            ],
            "text/plain": [
              "                        accuracy  precision   recall       f1\n",
              "0_baseline               79.2651    81.1139  79.2651  78.6219\n",
              "model_1_simple_dense     78.4777    79.1970  78.4777  78.0969\n",
              "model_2_LSTM             76.5092    76.9239  76.5092  76.1707\n",
              "model_3_GRU              77.2966    77.6321  77.2966  77.0151\n",
              "model_4_Bidirectional    76.5092    76.4824  76.5092  76.4252\n",
              "model_5_Conv1d           75.1969    75.1553  75.1969  75.1603\n",
              "model_6_USE              81.4961    81.6185  81.4961  81.3814\n",
              "model_7_USE_10_percent   79.9213    80.3550  79.9213  79.6723"
            ]
          },
          "metadata": {},
          "execution_count": 150
        }
      ]
    },
    {
      "cell_type": "code",
      "source": [
        "all_model_results.transpose().plot(kind=\"bar\", figsize=(10, 7)).legend(bbox_to_anchor=(1.0, 1.0))"
      ],
      "metadata": {
        "colab": {
          "base_uri": "https://localhost:8080/",
          "height": 563
        },
        "id": "R9ROr11ieh39",
        "outputId": "8604beb0-9a0a-43c0-900f-4e62ef97fdd2"
      },
      "execution_count": 153,
      "outputs": [
        {
          "output_type": "execute_result",
          "data": {
            "text/plain": [
              "<matplotlib.legend.Legend at 0x7efa3b6ad5d0>"
            ]
          },
          "metadata": {},
          "execution_count": 153
        },
        {
          "output_type": "display_data",
          "data": {
            "image/png": "[encoded data removed]",
            "text/plain": [
              "<Figure size 720x504 with 1 Axes>"
            ]
          },
          "metadata": {
            "needs_background": "light"
          }
        }
      ]
    },
    {
      "cell_type": "code",
      "source": [
        "all_model_results.transpose().sort_values(\"f1\", ascending=False)[\"f1\"].plot(kind=\"bar\", figsize=(12, 7))"
      ],
      "metadata": {
        "colab": {
          "base_uri": "https://localhost:8080/",
          "height": 563
        },
        "id": "P_ADTnvEfwJZ",
        "outputId": "0858ccd4-5e65-45e3-fdbb-2b65c71d4906"
      },
      "execution_count": 158,
      "outputs": [
        {
          "output_type": "execute_result",
          "data": {
            "text/plain": [
              "<matplotlib.axes._subplots.AxesSubplot at 0x7efa3baab790>"
            ]
          },
          "metadata": {},
          "execution_count": 158
        },
        {
          "output_type": "display_data",
          "data": {
            "image/png": "[encoded data removed]",
            "text/plain": [
              "<Figure size 864x504 with 1 Axes>"
            ]
          },
          "metadata": {
            "needs_background": "light"
          }
        }
      ]
    },
    {
      "cell_type": "markdown",
      "source": [
        "## Saving and loading a trained model"
      ],
      "metadata": {
        "id": "25DT5rGmgT9x"
      }
    },
    {
      "cell_type": "code",
      "source": [
        "model_6.save(\"model_6.h5\")"
      ],
      "metadata": {
        "id": "AaZyAPqdfcJa"
      },
      "execution_count": 159,
      "outputs": []
    },
    {
      "cell_type": "code",
      "source": [
        "import tensorflow_hub as hub \n",
        "loaded_model_6 = tf.keras.models.load_model(\"model_6.h5\",\n",
        "                                            custom_objects={\"KerasLayer\": hub.KerasLayer})"
      ],
      "metadata": {
        "id": "UrjSdR8WgYo9"
      },
      "execution_count": 161,
      "outputs": []
    },
    {
      "cell_type": "code",
      "source": [
        "loaded_model_6.evaluate(val_sentences, val_labels)"
      ],
      "metadata": {
        "colab": {
          "base_uri": "https://localhost:8080/"
        },
        "id": "VVkpFb0sgnGO",
        "outputId": "578ff67e-1761-43d1-8d36-7618209f4be1"
      },
      "execution_count": 162,
      "outputs": [
        {
          "output_type": "stream",
          "name": "stdout",
          "text": [
            "24/24 [==============================] - 5s 37ms/step - loss: 0.4184 - accuracy: 0.8150\n"
          ]
        },
        {
          "output_type": "execute_result",
          "data": {
            "text/plain": [
              "[0.41843876242637634, 0.8149606585502625]"
            ]
          },
          "metadata": {},
          "execution_count": 162
        }
      ]
    }
  ]
}